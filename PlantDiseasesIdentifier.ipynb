{
  "cells": [
    {
      "cell_type": "code",
      "execution_count": 54,
      "metadata": {
        "colab": {
          "base_uri": "https://localhost:8080/",
          "height": 103,
          "referenced_widgets": [
            "f955c39c96bb43cd8a23ac78f21bd772",
            "7a1fe3cfb1854701a0d42c8c52505e85",
            "bfd9092d2366463d9f6a5fbcfdb5b685",
            "bd292dff5952464199ac5ea1b15f9995",
            "c477966812c64cba8667d1aa872ae105",
            "b96399a3b602471b9670b3dc5fe0af72",
            "4930473dd35b42cea7e9d64fb024877d",
            "6b1d9e04c9ae4f9790a694a473a5c4e3",
            "6ca567592ce044619262821f52a3a53a",
            "adb3183c3fb34576a485d3dd073fd2d6",
            "afba5496128a4b6c943d547e1633f60b",
            "aae4f94c98214ebfaf729bc6255e3aec",
            "d2977e0938a347d493f7b4fe0b0893e0",
            "5d396a60f8f040c794a4212c3fe4f77d",
            "cbe010b9bb424b2d9484e2266c1c8a4b",
            "b91af86250bf47588a20a1c503b669c1",
            "38504228ea4a4c429abbb47adde65526",
            "6e64712267854773af7b88b6da524f10",
            "153814d4c95f49359db0ba7f3c07ffa6",
            "cad901a310504c75acae94315e5cdfb3",
            "29358a87e3b74a61892982471bb1e0af",
            "2b09b9969cca49b3ad8692d80eef6559",
            "71b186b015e74c0badc1e533659e0b64"
          ]
        },
        "id": "fbTABQANL3T_",
        "outputId": "b9dbd2a4-b405-4897-e0b8-3237edd3e2c1"
      },
      "outputs": [
        {
          "data": {
            "application/vnd.jupyter.widget-view+json": {
              "model_id": "f955c39c96bb43cd8a23ac78f21bd772",
              "version_major": 2,
              "version_minor": 0
            },
            "text/plain": [
              "VBox(children=(HTML(value='<center> <img\\nsrc=https://www.kaggle.com/static/images/site-logo.png\\nalt=\\'Kaggle…"
            ]
          },
          "metadata": {},
          "output_type": "display_data"
        },
        {
          "name": "stdout",
          "output_type": "stream",
          "text": [
            "Kaggle credentials set.\n",
            "Warning: Looks like you're using an outdated `kagglehub` version, please consider updating (latest version: 0.3.5)\n",
            "Kaggle credentials successfully validated.\n"
          ]
        }
      ],
      "source": [
        "# IMPORTANT: SOME KAGGLE DATA SOURCES ARE PRIVATE\n",
        "# RUN THIS CELL IN ORDER TO IMPORT YOUR KAGGLE DATA SOURCES.\n",
        "import kagglehub\n",
        "kagglehub.login()\n"
      ]
    },
    {
      "cell_type": "code",
      "execution_count": 56,
      "metadata": {
        "colab": {
          "base_uri": "https://localhost:8080/",
          "height": 92
        },
        "id": "djsih4HEL4gY",
        "outputId": "d195d3ee-346b-409e-824c-6252bdb1b2b5"
      },
      "outputs": [
        {
          "data": {
            "text/html": [
              "\n",
              "     <input type=\"file\" id=\"files-2b87f91c-8cc0-424e-a7ed-5e34ae417f4e\" name=\"files[]\" multiple disabled\n",
              "        style=\"border:none\" />\n",
              "     <output id=\"result-2b87f91c-8cc0-424e-a7ed-5e34ae417f4e\">\n",
              "      Upload widget is only available when the cell has been executed in the\n",
              "      current browser session. Please rerun this cell to enable.\n",
              "      </output>\n",
              "      <script>// Copyright 2017 Google LLC\n",
              "//\n",
              "// Licensed under the Apache License, Version 2.0 (the \"License\");\n",
              "// you may not use this file except in compliance with the License.\n",
              "// You may obtain a copy of the License at\n",
              "//\n",
              "//      http://www.apache.org/licenses/LICENSE-2.0\n",
              "//\n",
              "// Unless required by applicable law or agreed to in writing, software\n",
              "// distributed under the License is distributed on an \"AS IS\" BASIS,\n",
              "// WITHOUT WARRANTIES OR CONDITIONS OF ANY KIND, either express or implied.\n",
              "// See the License for the specific language governing permissions and\n",
              "// limitations under the License.\n",
              "\n",
              "/**\n",
              " * @fileoverview Helpers for google.colab Python module.\n",
              " */\n",
              "(function(scope) {\n",
              "function span(text, styleAttributes = {}) {\n",
              "  const element = document.createElement('span');\n",
              "  element.textContent = text;\n",
              "  for (const key of Object.keys(styleAttributes)) {\n",
              "    element.style[key] = styleAttributes[key];\n",
              "  }\n",
              "  return element;\n",
              "}\n",
              "\n",
              "// Max number of bytes which will be uploaded at a time.\n",
              "const MAX_PAYLOAD_SIZE = 100 * 1024;\n",
              "\n",
              "function _uploadFiles(inputId, outputId) {\n",
              "  const steps = uploadFilesStep(inputId, outputId);\n",
              "  const outputElement = document.getElementById(outputId);\n",
              "  // Cache steps on the outputElement to make it available for the next call\n",
              "  // to uploadFilesContinue from Python.\n",
              "  outputElement.steps = steps;\n",
              "\n",
              "  return _uploadFilesContinue(outputId);\n",
              "}\n",
              "\n",
              "// This is roughly an async generator (not supported in the browser yet),\n",
              "// where there are multiple asynchronous steps and the Python side is going\n",
              "// to poll for completion of each step.\n",
              "// This uses a Promise to block the python side on completion of each step,\n",
              "// then passes the result of the previous step as the input to the next step.\n",
              "function _uploadFilesContinue(outputId) {\n",
              "  const outputElement = document.getElementById(outputId);\n",
              "  const steps = outputElement.steps;\n",
              "\n",
              "  const next = steps.next(outputElement.lastPromiseValue);\n",
              "  return Promise.resolve(next.value.promise).then((value) => {\n",
              "    // Cache the last promise value to make it available to the next\n",
              "    // step of the generator.\n",
              "    outputElement.lastPromiseValue = value;\n",
              "    return next.value.response;\n",
              "  });\n",
              "}\n",
              "\n",
              "/**\n",
              " * Generator function which is called between each async step of the upload\n",
              " * process.\n",
              " * @param {string} inputId Element ID of the input file picker element.\n",
              " * @param {string} outputId Element ID of the output display.\n",
              " * @return {!Iterable<!Object>} Iterable of next steps.\n",
              " */\n",
              "function* uploadFilesStep(inputId, outputId) {\n",
              "  const inputElement = document.getElementById(inputId);\n",
              "  inputElement.disabled = false;\n",
              "\n",
              "  const outputElement = document.getElementById(outputId);\n",
              "  outputElement.innerHTML = '';\n",
              "\n",
              "  const pickedPromise = new Promise((resolve) => {\n",
              "    inputElement.addEventListener('change', (e) => {\n",
              "      resolve(e.target.files);\n",
              "    });\n",
              "  });\n",
              "\n",
              "  const cancel = document.createElement('button');\n",
              "  inputElement.parentElement.appendChild(cancel);\n",
              "  cancel.textContent = 'Cancel upload';\n",
              "  const cancelPromise = new Promise((resolve) => {\n",
              "    cancel.onclick = () => {\n",
              "      resolve(null);\n",
              "    };\n",
              "  });\n",
              "\n",
              "  // Wait for the user to pick the files.\n",
              "  const files = yield {\n",
              "    promise: Promise.race([pickedPromise, cancelPromise]),\n",
              "    response: {\n",
              "      action: 'starting',\n",
              "    }\n",
              "  };\n",
              "\n",
              "  cancel.remove();\n",
              "\n",
              "  // Disable the input element since further picks are not allowed.\n",
              "  inputElement.disabled = true;\n",
              "\n",
              "  if (!files) {\n",
              "    return {\n",
              "      response: {\n",
              "        action: 'complete',\n",
              "      }\n",
              "    };\n",
              "  }\n",
              "\n",
              "  for (const file of files) {\n",
              "    const li = document.createElement('li');\n",
              "    li.append(span(file.name, {fontWeight: 'bold'}));\n",
              "    li.append(span(\n",
              "        `(${file.type || 'n/a'}) - ${file.size} bytes, ` +\n",
              "        `last modified: ${\n",
              "            file.lastModifiedDate ? file.lastModifiedDate.toLocaleDateString() :\n",
              "                                    'n/a'} - `));\n",
              "    const percent = span('0% done');\n",
              "    li.appendChild(percent);\n",
              "\n",
              "    outputElement.appendChild(li);\n",
              "\n",
              "    const fileDataPromise = new Promise((resolve) => {\n",
              "      const reader = new FileReader();\n",
              "      reader.onload = (e) => {\n",
              "        resolve(e.target.result);\n",
              "      };\n",
              "      reader.readAsArrayBuffer(file);\n",
              "    });\n",
              "    // Wait for the data to be ready.\n",
              "    let fileData = yield {\n",
              "      promise: fileDataPromise,\n",
              "      response: {\n",
              "        action: 'continue',\n",
              "      }\n",
              "    };\n",
              "\n",
              "    // Use a chunked sending to avoid message size limits. See b/62115660.\n",
              "    let position = 0;\n",
              "    do {\n",
              "      const length = Math.min(fileData.byteLength - position, MAX_PAYLOAD_SIZE);\n",
              "      const chunk = new Uint8Array(fileData, position, length);\n",
              "      position += length;\n",
              "\n",
              "      const base64 = btoa(String.fromCharCode.apply(null, chunk));\n",
              "      yield {\n",
              "        response: {\n",
              "          action: 'append',\n",
              "          file: file.name,\n",
              "          data: base64,\n",
              "        },\n",
              "      };\n",
              "\n",
              "      let percentDone = fileData.byteLength === 0 ?\n",
              "          100 :\n",
              "          Math.round((position / fileData.byteLength) * 100);\n",
              "      percent.textContent = `${percentDone}% done`;\n",
              "\n",
              "    } while (position < fileData.byteLength);\n",
              "  }\n",
              "\n",
              "  // All done.\n",
              "  yield {\n",
              "    response: {\n",
              "      action: 'complete',\n",
              "    }\n",
              "  };\n",
              "}\n",
              "\n",
              "scope.google = scope.google || {};\n",
              "scope.google.colab = scope.google.colab || {};\n",
              "scope.google.colab._files = {\n",
              "  _uploadFiles,\n",
              "  _uploadFilesContinue,\n",
              "};\n",
              "})(self);\n",
              "</script> "
            ],
            "text/plain": [
              "<IPython.core.display.HTML object>"
            ]
          },
          "metadata": {},
          "output_type": "display_data"
        },
        {
          "name": "stdout",
          "output_type": "stream",
          "text": [
            "Saving kaggle (1).json to kaggle (1) (1).json\n"
          ]
        },
        {
          "data": {
            "text/plain": [
              "{'kaggle (1) (1).json': b'{\"username\":\"ayoubdammak\",\"key\":\"f577957f3391f727259f0e1278eec258\"}'}"
            ]
          },
          "execution_count": 56,
          "metadata": {},
          "output_type": "execute_result"
        }
      ],
      "source": [
        "from google.colab import files\n",
        "files.upload()  # Upload the kaggle.json file"
      ]
    },
    {
      "cell_type": "code",
      "execution_count": 57,
      "metadata": {
        "colab": {
          "base_uri": "https://localhost:8080/"
        },
        "id": "Y-XzX5A6L4XP",
        "outputId": "06f52efe-ea47-4e52-8a8b-df8dd528a7ff"
      },
      "outputs": [
        {
          "name": "stdout",
          "output_type": "stream",
          "text": [
            "mv: cannot stat 'kaggle.json': No such file or directory\n",
            "chmod: cannot access '/root/.kaggle/kaggle.json': No such file or directory\n"
          ]
        }
      ],
      "source": [
        "!mkdir -p ~/.kaggle\n",
        "!mv kaggle.json ~/.kaggle/\n",
        "!chmod 600 ~/.kaggle/kaggle.json"
      ]
    },
    {
      "cell_type": "code",
      "execution_count": 58,
      "metadata": {
        "colab": {
          "base_uri": "https://localhost:8080/"
        },
        "id": "tAjZbamQL4HG",
        "outputId": "daaf74e2-6fce-481f-b107-9065db868e51"
      },
      "outputs": [
        {
          "name": "stdout",
          "output_type": "stream",
          "text": [
            "Dataset URL: https://www.kaggle.com/datasets/emmarex/plantdisease\n",
            "License(s): unknown\n",
            "plantdisease.zip: Skipping, found more recently modified local copy (use --force to force download)\n",
            "Archive:  plantdisease.zip\n",
            "replace plantdisease/PlantVillage/Pepper__bell___Bacterial_spot/0022d6b7-d47c-4ee2-ae9a-392a53f48647___JR_B.Spot 8964.JPG? [y]es, [n]o, [A]ll, [N]one, [r]ename: "
          ]
        }
      ],
      "source": [
        "!kaggle datasets download -d emmarex/plantdisease\n",
        "!unzip plantdisease.zip -d plantdisease"
      ]
    },
    {
      "cell_type": "code",
      "execution_count": 60,
      "metadata": {
        "colab": {
          "base_uri": "https://localhost:8080/"
        },
        "id": "9kZWgPd_L-bG",
        "outputId": "d8d20e0c-5fe9-46d8-d17c-1cd6fe38bafd"
      },
      "outputs": [
        {
          "name": "stdout",
          "output_type": "stream",
          "text": [
            "Traceback (most recent call last):\n",
            "  File \"/usr/local/bin/kaggle\", line 5, in <module>\n",
            "    from kaggle.cli import main\n",
            "  File \"/usr/local/lib/python3.10/dist-packages/kaggle/__init__.py\", line 7, in <module>\n",
            "    api.authenticate()\n",
            "  File \"/usr/local/lib/python3.10/dist-packages/kaggle/api/kaggle_api_extended.py\", line 407, in authenticate\n",
            "    raise IOError('Could not find {}. Make sure it\\'s located in'\n",
            "OSError: Could not find kaggle.json. Make sure it's located in /root/.kaggle. Or use the environment method. See setup instructions at https://github.com/Kaggle/kaggle-api/\n"
          ]
        }
      ],
      "source": [
        "!kaggle models download -m ayoubdammak/mobilenet/Keras/default/1"
      ]
    },
    {
      "cell_type": "markdown",
      "metadata": {
        "id": "mmD_Hqz4L3UA"
      },
      "source": [
        "# **Importation des bibliothèques**"
      ]
    },
    {
      "cell_type": "code",
      "execution_count": 61,
      "metadata": {
        "execution": {
          "iopub.execute_input": "2024-12-16T11:07:03.443165Z",
          "iopub.status.busy": "2024-12-16T11:07:03.44286Z",
          "iopub.status.idle": "2024-12-16T11:07:18.453668Z",
          "shell.execute_reply": "2024-12-16T11:07:18.452257Z",
          "shell.execute_reply.started": "2024-12-16T11:07:03.443132Z"
        },
        "id": "zJbV9GmRL3UB",
        "trusted": true
      },
      "outputs": [],
      "source": [
        "import tensorflow as tf\n",
        "from tensorflow.keras.preprocessing.image import ImageDataGenerator\n",
        "from tensorflow.keras.models import Sequential\n",
        "from tensorflow.keras.layers import Dense, GlobalAveragePooling2D, Dropout\n",
        "from tensorflow.keras.applications import MobileNetV2\n",
        "from tensorflow.keras.optimizers import Adam\n",
        "import matplotlib.pyplot as plt\n",
        "import numpy as np\n",
        "import os\n",
        "import kagglehub\n",
        "import shutil\n",
        "from sklearn.model_selection import train_test_split"
      ]
    },
    {
      "cell_type": "code",
      "execution_count": 66,
      "metadata": {
        "execution": {
          "iopub.execute_input": "2024-12-16T11:07:18.456322Z",
          "iopub.status.busy": "2024-12-16T11:07:18.455741Z",
          "iopub.status.idle": "2024-12-16T11:07:18.461953Z",
          "shell.execute_reply": "2024-12-16T11:07:18.459933Z",
          "shell.execute_reply.started": "2024-12-16T11:07:18.456287Z"
        },
        "id": "rJTaVNuuL3UB",
        "trusted": true
      },
      "outputs": [],
      "source": [
        "# Download latest version\n",
        "base_path = '/content/plantdisease/PlantVillage'"
      ]
    },
    {
      "cell_type": "code",
      "execution_count": 67,
      "metadata": {
        "execution": {
          "iopub.execute_input": "2024-12-16T11:07:18.47382Z",
          "iopub.status.busy": "2024-12-16T11:07:18.473295Z",
          "iopub.status.idle": "2024-12-16T11:07:18.496625Z",
          "shell.execute_reply": "2024-12-16T11:07:18.495435Z",
          "shell.execute_reply.started": "2024-12-16T11:07:18.473769Z"
        },
        "id": "grMskHJNL3UB",
        "trusted": true
      },
      "outputs": [],
      "source": [
        "# Chemins pour train, valid et test\n",
        "train_dir = '/kaggle/working/train'\n",
        "val_dir = '/kaggle/working/valid'\n",
        "test_dir = '/kaggle/working/test'"
      ]
    },
    {
      "cell_type": "code",
      "execution_count": 68,
      "metadata": {
        "execution": {
          "iopub.execute_input": "2024-12-16T11:07:18.498352Z",
          "iopub.status.busy": "2024-12-16T11:07:18.497961Z",
          "iopub.status.idle": "2024-12-16T11:07:18.511344Z",
          "shell.execute_reply": "2024-12-16T11:07:18.510218Z",
          "shell.execute_reply.started": "2024-12-16T11:07:18.498296Z"
        },
        "id": "_rwVoLSHL3UB",
        "trusted": true
      },
      "outputs": [],
      "source": [
        "# Création des dossiers\n",
        "os.makedirs(train_dir, exist_ok=True)\n",
        "os.makedirs(val_dir, exist_ok=True)\n",
        "os.makedirs(test_dir, exist_ok=True)"
      ]
    },
    {
      "cell_type": "code",
      "execution_count": 69,
      "metadata": {
        "_cell_guid": "b1076dfc-b9ad-4769-8c92-a6c4dae69d19",
        "_uuid": "8f2839f25d086af736a60e9eeb907d3b93b6e0e5",
        "execution": {
          "iopub.execute_input": "2024-12-16T11:07:18.512848Z",
          "iopub.status.busy": "2024-12-16T11:07:18.512519Z",
          "iopub.status.idle": "2024-12-16T11:10:05.013956Z",
          "shell.execute_reply": "2024-12-16T11:10:05.012727Z",
          "shell.execute_reply.started": "2024-12-16T11:07:18.512816Z"
        },
        "id": "vsxE4ayAL3UC",
        "trusted": true
      },
      "outputs": [],
      "source": [
        "# Parcourir chaque classe\n",
        "for class_name in os.listdir(base_path):\n",
        "    class_path = os.path.join(base_path, class_name)\n",
        "    if os.path.isdir(class_path):\n",
        "        # Lister les images dans la classe\n",
        "        images = os.listdir(class_path)\n",
        "\n",
        "        # Diviser les données en train, valid, test\n",
        "        train_images, temp_images = train_test_split(images, test_size=0.2, random_state=42)\n",
        "        val_images, test_images = train_test_split(temp_images, test_size=0.5, random_state=42)\n",
        "\n",
        "        # Créer les sous-dossiers pour chaque classe\n",
        "        os.makedirs(os.path.join(train_dir, class_name), exist_ok=True)\n",
        "        os.makedirs(os.path.join(val_dir, class_name), exist_ok=True)\n",
        "        os.makedirs(os.path.join(test_dir, class_name), exist_ok=True)\n",
        "\n",
        "        # Copier les images dans les dossiers correspondants\n",
        "        for img in train_images:\n",
        "            shutil.copy(os.path.join(class_path, img), os.path.join(train_dir, class_name))\n",
        "\n",
        "        for img in val_images:\n",
        "            shutil.copy(os.path.join(class_path, img), os.path.join(val_dir, class_name))\n",
        "\n",
        "        for img in test_images:\n",
        "            shutil.copy(os.path.join(class_path, img), os.path.join(test_dir, class_name))"
      ]
    },
    {
      "cell_type": "markdown",
      "metadata": {
        "id": "sSjRczm7L3UC"
      },
      "source": [
        "# **Prétraitement des données**"
      ]
    },
    {
      "cell_type": "markdown",
      "metadata": {
        "id": "jkkII7VUL3UC"
      },
      "source": [
        "**Génération de données**"
      ]
    },
    {
      "cell_type": "code",
      "execution_count": 70,
      "metadata": {
        "execution": {
          "iopub.execute_input": "2024-12-16T11:10:05.015908Z",
          "iopub.status.busy": "2024-12-16T11:10:05.015582Z",
          "iopub.status.idle": "2024-12-16T11:10:05.021746Z",
          "shell.execute_reply": "2024-12-16T11:10:05.020361Z",
          "shell.execute_reply.started": "2024-12-16T11:10:05.015876Z"
        },
        "id": "KxxhL1qWL3UC",
        "trusted": true
      },
      "outputs": [],
      "source": [
        "# Générateurs de données\n",
        "train_datagen = ImageDataGenerator(\n",
        "    rescale=1./255,\n",
        "    rotation_range=20,\n",
        "    width_shift_range=0.2,\n",
        "    height_shift_range=0.2,\n",
        "    zoom_range=0.2,\n",
        "    horizontal_flip=True\n",
        ")\n",
        "\n",
        "val_datagen = ImageDataGenerator(rescale=1./255)\n",
        "test_datagen = ImageDataGenerator(rescale=1./255)"
      ]
    },
    {
      "cell_type": "markdown",
      "metadata": {
        "id": "EDe8oXPRL3UC"
      },
      "source": [
        "**Chargement des images**"
      ]
    },
    {
      "cell_type": "code",
      "execution_count": 71,
      "metadata": {
        "colab": {
          "base_uri": "https://localhost:8080/"
        },
        "execution": {
          "iopub.execute_input": "2024-12-16T11:10:05.023604Z",
          "iopub.status.busy": "2024-12-16T11:10:05.023139Z",
          "iopub.status.idle": "2024-12-16T11:10:05.538626Z",
          "shell.execute_reply": "2024-12-16T11:10:05.537626Z",
          "shell.execute_reply.started": "2024-12-16T11:10:05.023556Z"
        },
        "id": "Og48yCfJL3UC",
        "outputId": "a9ac4c3d-f43e-48e5-ab1b-cd6dca968612",
        "trusted": true
      },
      "outputs": [
        {
          "name": "stdout",
          "output_type": "stream",
          "text": [
            "Found 16504 images belonging to 16 classes.\n",
            "Found 2064 images belonging to 16 classes.\n",
            "Found 2070 images belonging to 16 classes.\n"
          ]
        }
      ],
      "source": [
        "# Charger les images\n",
        "train_data = train_datagen.flow_from_directory(\n",
        "    train_dir,\n",
        "    target_size=(224, 224),\n",
        "    batch_size=32,\n",
        "    class_mode='categorical'\n",
        ")\n",
        "\n",
        "val_data = val_datagen.flow_from_directory(\n",
        "    val_dir,\n",
        "    target_size=(224, 224),\n",
        "    batch_size=32,\n",
        "    class_mode='categorical'\n",
        ")\n",
        "\n",
        "test_data = test_datagen.flow_from_directory(\n",
        "    test_dir,\n",
        "    target_size=(224, 224),\n",
        "    batch_size=32,\n",
        "    class_mode='categorical'\n",
        ")"
      ]
    },
    {
      "cell_type": "markdown",
      "metadata": {
        "id": "GYtdSF_vL3UD"
      },
      "source": [
        "**Chargement de MobileNetV2**"
      ]
    },
    {
      "cell_type": "code",
      "execution_count": 75,
      "metadata": {
        "execution": {
          "iopub.execute_input": "2024-12-16T11:10:05.540358Z",
          "iopub.status.busy": "2024-12-16T11:10:05.539941Z",
          "iopub.status.idle": "2024-12-16T11:10:07.277443Z",
          "shell.execute_reply": "2024-12-16T11:10:07.276284Z",
          "shell.execute_reply.started": "2024-12-16T11:10:05.540311Z"
        },
        "id": "7jXhUo_KL3UD",
        "trusted": true
      },
      "outputs": [],
      "source": [
        "# Charger MobileNetV2\n",
        "\n",
        "base_model = MobileNetV2(weights=\"imagenet\", include_top=False, input_shape=(224, 224, 3))"
      ]
    },
    {
      "cell_type": "code",
      "execution_count": 76,
      "metadata": {
        "execution": {
          "iopub.execute_input": "2024-12-16T11:10:07.280094Z",
          "iopub.status.busy": "2024-12-16T11:10:07.279308Z",
          "iopub.status.idle": "2024-12-16T11:10:07.288411Z",
          "shell.execute_reply": "2024-12-16T11:10:07.287147Z",
          "shell.execute_reply.started": "2024-12-16T11:10:07.280042Z"
        },
        "id": "6Fk4n8J9L3UD",
        "trusted": true
      },
      "outputs": [],
      "source": [
        "# Geler les premières couches\n",
        "base_model.trainable = False"
      ]
    },
    {
      "cell_type": "markdown",
      "metadata": {
        "id": "fnjErOz7L3UD"
      },
      "source": [
        "# **Ajout des couches personnalisées**"
      ]
    },
    {
      "cell_type": "code",
      "execution_count": 77,
      "metadata": {
        "execution": {
          "iopub.execute_input": "2024-12-16T11:10:07.290228Z",
          "iopub.status.busy": "2024-12-16T11:10:07.289889Z",
          "iopub.status.idle": "2024-12-16T11:10:07.309653Z",
          "shell.execute_reply": "2024-12-16T11:10:07.308454Z",
          "shell.execute_reply.started": "2024-12-16T11:10:07.290194Z"
        },
        "id": "VfOXvk7QL3UD",
        "trusted": true
      },
      "outputs": [],
      "source": [
        "# Ajouter des couches personnalisées\n",
        "model = Sequential([\n",
        "    base_model,\n",
        "    GlobalAveragePooling2D(),\n",
        "    Dense(256, activation='relu'),\n",
        "    Dropout(0.5),\n",
        "    Dense(train_data.num_classes, activation='softmax')  # Adapté au nombre de classes\n",
        "])"
      ]
    },
    {
      "cell_type": "markdown",
      "metadata": {
        "id": "79LehZm4L3UD"
      },
      "source": [
        "# **Compilation du modèle**"
      ]
    },
    {
      "cell_type": "code",
      "execution_count": 78,
      "metadata": {
        "execution": {
          "iopub.execute_input": "2024-12-16T11:10:07.311814Z",
          "iopub.status.busy": "2024-12-16T11:10:07.311386Z",
          "iopub.status.idle": "2024-12-16T11:10:07.33095Z",
          "shell.execute_reply": "2024-12-16T11:10:07.329641Z",
          "shell.execute_reply.started": "2024-12-16T11:10:07.31178Z"
        },
        "id": "5sYbG1XzL3UD",
        "trusted": true
      },
      "outputs": [],
      "source": [
        "# Compiler le modèle\n",
        "model.compile(\n",
        "    optimizer=Adam(learning_rate=0.001),\n",
        "    loss='categorical_crossentropy',\n",
        "    metrics=['accuracy']\n",
        ")"
      ]
    },
    {
      "cell_type": "markdown",
      "metadata": {
        "id": "rJjYfK3rL3UD"
      },
      "source": [
        "# **Entraînement du modèle**"
      ]
    },
    {
      "cell_type": "code",
      "execution_count": 79,
      "metadata": {
        "colab": {
          "base_uri": "https://localhost:8080/"
        },
        "execution": {
          "iopub.execute_input": "2024-12-16T12:02:11.207257Z",
          "iopub.status.busy": "2024-12-16T12:02:11.206884Z"
        },
        "id": "xgTKej9pL3UD",
        "outputId": "fbd7cbc5-faee-446d-a173-93527b5b0457",
        "trusted": true
      },
      "outputs": [
        {
          "name": "stdout",
          "output_type": "stream",
          "text": [
            "Epoch 1/10\n"
          ]
        },
        {
          "name": "stderr",
          "output_type": "stream",
          "text": [
            "/usr/local/lib/python3.10/dist-packages/keras/src/trainers/data_adapters/py_dataset_adapter.py:122: UserWarning: Your `PyDataset` class should call `super().__init__(**kwargs)` in its constructor. `**kwargs` can include `workers`, `use_multiprocessing`, `max_queue_size`. Do not pass these arguments to `fit()`, as they will be ignored.\n",
            "  self._warn_if_super_not_called()\n"
          ]
        },
        {
          "name": "stdout",
          "output_type": "stream",
          "text": [
            "\u001b[1m515/515\u001b[0m \u001b[32m━━━━━━━━━━━━━━━━━━━━\u001b[0m\u001b[37m\u001b[0m \u001b[1m219s\u001b[0m 397ms/step - accuracy: 0.5819 - loss: 1.3400 - val_accuracy: 0.8442 - val_loss: 0.4772\n",
            "Epoch 2/10\n",
            "\u001b[1m  1/515\u001b[0m \u001b[37m━━━━━━━━━━━━━━━━━━━━\u001b[0m \u001b[1m16s\u001b[0m 31ms/step - accuracy: 0.8125 - loss: 0.6717"
          ]
        },
        {
          "name": "stderr",
          "output_type": "stream",
          "text": [
            "/usr/lib/python3.10/contextlib.py:153: UserWarning: Your input ran out of data; interrupting training. Make sure that your dataset or generator can generate at least `steps_per_epoch * epochs` batches. You may need to use the `.repeat()` function when building your dataset.\n",
            "  self.gen.throw(typ, value, traceback)\n"
          ]
        },
        {
          "name": "stdout",
          "output_type": "stream",
          "text": [
            "\b\b\b\b\b\b\b\b\b\b\b\b\b\b\b\b\b\b\b\b\b\b\b\b\b\b\b\b\b\b\b\b\b\b\b\b\b\b\b\b\b\b\b\b\b\b\b\b\b\b\b\b\b\b\b\b\b\b\b\b\b\b\b\b\b\b\b\b\b\b\b\b\b\b\b\b\r\u001b[1m515/515\u001b[0m \u001b[32m━━━━━━━━━━━━━━━━━━━━\u001b[0m\u001b[37m\u001b[0m \u001b[1m3s\u001b[0m 6ms/step - accuracy: 0.8125 - loss: 0.6717 - val_accuracy: 0.8125 - val_loss: 0.4811\n",
            "Epoch 3/10\n",
            "\u001b[1m515/515\u001b[0m \u001b[32m━━━━━━━━━━━━━━━━━━━━\u001b[0m\u001b[37m\u001b[0m \u001b[1m200s\u001b[0m 383ms/step - accuracy: 0.7892 - loss: 0.6398 - val_accuracy: 0.8521 - val_loss: 0.4467\n",
            "Epoch 4/10\n",
            "\u001b[1m515/515\u001b[0m \u001b[32m━━━━━━━━━━━━━━━━━━━━\u001b[0m\u001b[37m\u001b[0m \u001b[1m0s\u001b[0m 63us/step - accuracy: 0.8125 - loss: 0.5040 - val_accuracy: 0.8125 - val_loss: 0.4391\n",
            "Epoch 5/10\n",
            "\u001b[1m515/515\u001b[0m \u001b[32m━━━━━━━━━━━━━━━━━━━━\u001b[0m\u001b[37m\u001b[0m \u001b[1m200s\u001b[0m 380ms/step - accuracy: 0.8139 - loss: 0.5510 - val_accuracy: 0.8618 - val_loss: 0.4064\n",
            "Epoch 6/10\n",
            "\u001b[1m515/515\u001b[0m \u001b[32m━━━━━━━━━━━━━━━━━━━━\u001b[0m\u001b[37m\u001b[0m \u001b[1m0s\u001b[0m 68us/step - accuracy: 0.7812 - loss: 0.6421 - val_accuracy: 1.0000 - val_loss: 0.1404\n",
            "Epoch 7/10\n",
            "\u001b[1m515/515\u001b[0m \u001b[32m━━━━━━━━━━━━━━━━━━━━\u001b[0m\u001b[37m\u001b[0m \u001b[1m200s\u001b[0m 374ms/step - accuracy: 0.8319 - loss: 0.4915 - val_accuracy: 0.8721 - val_loss: 0.3698\n",
            "Epoch 8/10\n",
            "\u001b[1m515/515\u001b[0m \u001b[32m━━━━━━━━━━━━━━━━━━━━\u001b[0m\u001b[37m\u001b[0m \u001b[1m0s\u001b[0m 69us/step - accuracy: 0.9062 - loss: 0.3780 - val_accuracy: 0.9375 - val_loss: 0.1427\n",
            "Epoch 9/10\n",
            "\u001b[1m515/515\u001b[0m \u001b[32m━━━━━━━━━━━━━━━━━━━━\u001b[0m\u001b[37m\u001b[0m \u001b[1m197s\u001b[0m 377ms/step - accuracy: 0.8427 - loss: 0.4623 - val_accuracy: 0.8750 - val_loss: 0.3558\n",
            "Epoch 10/10\n",
            "\u001b[1m515/515\u001b[0m \u001b[32m━━━━━━━━━━━━━━━━━━━━\u001b[0m\u001b[37m\u001b[0m \u001b[1m0s\u001b[0m 62us/step - accuracy: 0.8438 - loss: 0.4222 - val_accuracy: 0.9375 - val_loss: 0.3041\n"
          ]
        }
      ],
      "source": [
        "# Entraîner le modèle\n",
        "history = model.fit(\n",
        "    train_data,\n",
        "    validation_data=val_data,\n",
        "    epochs=10,\n",
        "    steps_per_epoch=train_data.samples // train_data.batch_size,\n",
        "    validation_steps=val_data.samples // val_data.batch_size\n",
        ")"
      ]
    },
    {
      "cell_type": "markdown",
      "metadata": {
        "id": "WVNH0S8LL3UE"
      },
      "source": [
        "# **Traçage des courbes d'accuracy**"
      ]
    },
    {
      "cell_type": "code",
      "execution_count": 80,
      "metadata": {
        "colab": {
          "base_uri": "https://localhost:8080/",
          "height": 452
        },
        "id": "D1O8a_vQL3UE",
        "outputId": "b915adec-7685-4ca7-8c97-f18ccb992a6a",
        "trusted": true
      },
      "outputs": [
        {
          "data": {
            "image/png": "[encoded data removed]",
            "text/plain": [
              "<Figure size 640x480 with 1 Axes>"
            ]
          },
          "metadata": {},
          "output_type": "display_data"
        }
      ],
      "source": [
        "# Visualiser les courbes d'accuracy\n",
        "plt.plot(history.history['accuracy'], label='Train Accuracy')\n",
        "plt.plot(history.history['val_accuracy'], label='Validation Accuracy')\n",
        "plt.title('Accuracy')\n",
        "plt.legend()\n",
        "plt.show()"
      ]
    },
    {
      "cell_type": "markdown",
      "metadata": {
        "id": "RS3PnEAVL3UE"
      },
      "source": [
        "# **Traçage des courbes de perte**"
      ]
    },
    {
      "cell_type": "code",
      "execution_count": 81,
      "metadata": {
        "colab": {
          "base_uri": "https://localhost:8080/",
          "height": 452
        },
        "id": "kov1r_fvL3UE",
        "outputId": "a4534f0d-6376-4ea8-ef36-403d6c4889ea",
        "trusted": true
      },
      "outputs": [
        {
          "data": {
            "image/png": "[encoded data removed]",
            "text/plain": [
              "<Figure size 640x480 with 1 Axes>"
            ]
          },
          "metadata": {},
          "output_type": "display_data"
        }
      ],
      "source": [
        "# Visualiser les courbes de perte\n",
        "plt.plot(history.history['loss'], label='Train Loss')\n",
        "plt.plot(history.history['val_loss'], label='Validation Loss')\n",
        "plt.title('Loss')\n",
        "plt.legend()\n",
        "plt.show()"
      ]
    },
    {
      "cell_type": "markdown",
      "metadata": {
        "id": "7aizOMb-L3UE"
      },
      "source": [
        "# **Fine Tuning**"
      ]
    },
    {
      "cell_type": "code",
      "execution_count": 82,
      "metadata": {
        "colab": {
          "base_uri": "https://localhost:8080/"
        },
        "execution": {
          "iopub.execute_input": "2024-12-16T09:33:22.14911Z",
          "iopub.status.busy": "2024-12-16T09:33:22.148406Z",
          "iopub.status.idle": "2024-12-16T09:33:22.442845Z",
          "shell.execute_reply": "2024-12-16T09:33:22.441402Z",
          "shell.execute_reply.started": "2024-12-16T09:33:22.149032Z"
        },
        "id": "VwCpykMML3UE",
        "outputId": "b8f1bcfa-3a63-4d8c-e1d4-f921f523c1aa",
        "trusted": true
      },
      "outputs": [
        {
          "name": "stdout",
          "output_type": "stream",
          "text": [
            "Epoch 1/5\n",
            "\u001b[1m515/515\u001b[0m \u001b[32m━━━━━━━━━━━━━━━━━━━━\u001b[0m\u001b[37m\u001b[0m \u001b[1m235s\u001b[0m 411ms/step - accuracy: 0.6073 - loss: 1.4091 - val_accuracy: 0.8740 - val_loss: 0.3760\n",
            "Epoch 2/5\n",
            "\u001b[1m515/515\u001b[0m \u001b[32m━━━━━━━━━━━━━━━━━━━━\u001b[0m\u001b[37m\u001b[0m \u001b[1m2s\u001b[0m 4ms/step - accuracy: 0.9062 - loss: 0.3623 - val_accuracy: 0.8125 - val_loss: 0.5557\n",
            "Epoch 3/5\n",
            "\u001b[1m515/515\u001b[0m \u001b[32m━━━━━━━━━━━━━━━━━━━━\u001b[0m\u001b[37m\u001b[0m \u001b[1m238s\u001b[0m 388ms/step - accuracy: 0.8123 - loss: 0.5603 - val_accuracy: 0.8804 - val_loss: 0.3779\n",
            "Epoch 4/5\n",
            "\u001b[1m515/515\u001b[0m \u001b[32m━━━━━━━━━━━━━━━━━━━━\u001b[0m\u001b[37m\u001b[0m \u001b[1m0s\u001b[0m 73us/step - accuracy: 0.8125 - loss: 0.4799 - val_accuracy: 0.8750 - val_loss: 0.1890\n",
            "Epoch 5/5\n",
            "\u001b[1m515/515\u001b[0m \u001b[32m━━━━━━━━━━━━━━━━━━━━\u001b[0m\u001b[37m\u001b[0m \u001b[1m205s\u001b[0m 393ms/step - accuracy: 0.8517 - loss: 0.4437 - val_accuracy: 0.8940 - val_loss: 0.3204\n"
          ]
        }
      ],
      "source": [
        "# Débloquer certaines couches pour le fine-tuning\n",
        "base_model.trainable = True\n",
        "for layer in base_model.layers[:100]:  # Geler les premières couches\n",
        "    layer.trainable = False\n",
        "\n",
        "# Recompiler avec un taux d'apprentissage plus faible\n",
        "model.compile(\n",
        "    optimizer=Adam(learning_rate=1e-5),\n",
        "    loss='categorical_crossentropy',\n",
        "    metrics=['accuracy']\n",
        ")\n",
        "\n",
        "# Réentraînement avec fine-tuning\n",
        "history_finetune = model.fit(\n",
        "    train_data,\n",
        "    validation_data=val_data,\n",
        "    epochs=5,\n",
        "    steps_per_epoch=train_data.samples // train_data.batch_size,\n",
        "    validation_steps=val_data.samples // val_data.batch_size\n",
        ")"
      ]
    },
    {
      "cell_type": "markdown",
      "metadata": {
        "id": "emJXOjB3L3UE"
      },
      "source": [
        "# **Evaluation du modèle**"
      ]
    },
    {
      "cell_type": "code",
      "execution_count": 83,
      "metadata": {
        "colab": {
          "base_uri": "https://localhost:8080/"
        },
        "id": "zlRhG1yHL3UE",
        "outputId": "6b67eee5-303f-4ae0-efc1-15e4c82e8c7a",
        "trusted": true
      },
      "outputs": [
        {
          "name": "stdout",
          "output_type": "stream",
          "text": [
            "\u001b[1m65/65\u001b[0m \u001b[32m━━━━━━━━━━━━━━━━━━━━\u001b[0m\u001b[37m\u001b[0m \u001b[1m8s\u001b[0m 128ms/step - accuracy: 0.8962 - loss: 0.2945\n",
            "Test Accuracy: 0.8932366967201233\n",
            "Test Loss: 0.31946638226509094\n"
          ]
        }
      ],
      "source": [
        "# Évaluer le modèle\n",
        "test_loss, test_acc = model.evaluate(test_data)\n",
        "print(f'Test Accuracy: {test_acc}')\n",
        "print(f'Test Loss: {test_loss}')"
      ]
    },
    {
      "cell_type": "code",
      "execution_count": 86,
      "metadata": {
        "colab": {
          "base_uri": "https://localhost:8080/",
          "height": 452
        },
        "id": "HPjnWrynTNH5",
        "outputId": "5866722f-e21c-4eb8-9f27-9e9286ba7b90"
      },
      "outputs": [
        {
          "data": {
            "image/png": "[encoded data removed]",
            "text/plain": [
              "<Figure size 640x480 with 1 Axes>"
            ]
          },
          "metadata": {},
          "output_type": "display_data"
        }
      ],
      "source": [
        "# Visualiser les courbes d'accuracy\n",
        "plt.plot(history_finetune.history['accuracy'], label='Train Accuracy')\n",
        "plt.plot(history_finetune.history['val_accuracy'], label='Validation Accuracy')\n",
        "plt.title('Accuracy')\n",
        "plt.legend()\n",
        "plt.show()"
      ]
    },
    {
      "cell_type": "code",
      "execution_count": 90,
      "metadata": {
        "colab": {
          "base_uri": "https://localhost:8080/"
        },
        "id": "UQz9M5c0L3UF",
        "outputId": "25a89a4a-5733-4e37-943b-b9c26bdde31c",
        "trusted": true
      },
      "outputs": [
        {
          "name": "stdout",
          "output_type": "stream",
          "text": [
            "\u001b[1m1/1\u001b[0m \u001b[32m━━━━━━━━━━━━━━━━━━━━\u001b[0m\u001b[37m\u001b[0m \u001b[1m0s\u001b[0m 21ms/step\n",
            "Predicted class: Potato___healthy\n"
          ]
        }
      ],
      "source": [
        "from tensorflow.keras.preprocessing import image\n",
        "\n",
        "# Chemin vers une image de test\n",
        "img_path = '/kaggle/working/test/Potato___healthy/22322780-95b4-4b45-b626-26b22965d55e___RS_HL 1880.JPG'\n",
        "\n",
        "# Préparer l'image\n",
        "img = image.load_img(img_path, target_size=(224, 224))\n",
        "img_array = image.img_to_array(img) / 255.0\n",
        "img_array = np.expand_dims(img_array, axis=0)\n",
        "\n",
        "# Faire une prédiction\n",
        "predictions = model.predict(img_array)\n",
        "predicted_class = np.argmax(predictions)\n",
        "class_labels = list(train_data.class_indices.keys())\n",
        "\n",
        "print(f\"Predicted class: {class_labels[predicted_class]}\")"
      ]
    },
    {
      "cell_type": "markdown",
      "metadata": {
        "id": "RLpTMxw9L3UF"
      },
      "source": [
        "# **Préparer le modèle TensorFlow Lite**"
      ]
    },
    {
      "cell_type": "code",
      "execution_count": 91,
      "metadata": {
        "colab": {
          "base_uri": "https://localhost:8080/"
        },
        "id": "sucCGTB3L3UF",
        "outputId": "338058c8-e8a8-46fb-aa05-2b802c3a2e5a",
        "trusted": true
      },
      "outputs": [
        {
          "name": "stdout",
          "output_type": "stream",
          "text": [
            "Saved artifact at '/tmp/tmp3msj5zfd'. The following endpoints are available:\n",
            "\n",
            "* Endpoint 'serve'\n",
            "  args_0 (POSITIONAL_ONLY): TensorSpec(shape=(None, 224, 224, 3), dtype=tf.float32, name='keras_tensor_308')\n",
            "Output Type:\n",
            "  TensorSpec(shape=(None, 16), dtype=tf.float32, name=None)\n",
            "Captures:\n",
            "  135742747294912: TensorSpec(shape=(), dtype=tf.resource, name=None)\n",
            "  135742747625952: TensorSpec(shape=(), dtype=tf.resource, name=None)\n",
            "  135742747626128: TensorSpec(shape=(), dtype=tf.resource, name=None)\n",
            "  135742747626480: TensorSpec(shape=(), dtype=tf.resource, name=None)\n",
            "  135742747625424: TensorSpec(shape=(), dtype=tf.resource, name=None)\n",
            "  135742747632992: TensorSpec(shape=(), dtype=tf.resource, name=None)\n",
            "  135742747631936: TensorSpec(shape=(), dtype=tf.resource, name=None)\n",
            "  135742747634576: TensorSpec(shape=(), dtype=tf.resource, name=None)\n",
            "  135742747624368: TensorSpec(shape=(), dtype=tf.resource, name=None)\n",
            "  135742747632464: TensorSpec(shape=(), dtype=tf.resource, name=None)\n",
            "  135742747637568: TensorSpec(shape=(), dtype=tf.resource, name=None)\n",
            "  135742747690432: TensorSpec(shape=(), dtype=tf.resource, name=None)\n",
            "  135742747689200: TensorSpec(shape=(), dtype=tf.resource, name=None)\n",
            "  135742747638624: TensorSpec(shape=(), dtype=tf.resource, name=None)\n",
            "  135742747689024: TensorSpec(shape=(), dtype=tf.resource, name=None)\n",
            "  135742747287344: TensorSpec(shape=(), dtype=tf.resource, name=None)\n",
            "  135742747696592: TensorSpec(shape=(), dtype=tf.resource, name=None)\n",
            "  135742747697648: TensorSpec(shape=(), dtype=tf.resource, name=None)\n",
            "  135742747693776: TensorSpec(shape=(), dtype=tf.resource, name=None)\n",
            "  135742747696416: TensorSpec(shape=(), dtype=tf.resource, name=None)\n",
            "  135742747705040: TensorSpec(shape=(), dtype=tf.resource, name=None)\n",
            "  135742747701520: TensorSpec(shape=(), dtype=tf.resource, name=None)\n",
            "  135742747701168: TensorSpec(shape=(), dtype=tf.resource, name=None)\n",
            "  135742747702224: TensorSpec(shape=(), dtype=tf.resource, name=None)\n",
            "  135742747703808: TensorSpec(shape=(), dtype=tf.resource, name=None)\n",
            "  135742747700640: TensorSpec(shape=(), dtype=tf.resource, name=None)\n",
            "  135742747762480: TensorSpec(shape=(), dtype=tf.resource, name=None)\n",
            "  135742747763536: TensorSpec(shape=(), dtype=tf.resource, name=None)\n",
            "  135742747759664: TensorSpec(shape=(), dtype=tf.resource, name=None)\n",
            "  135742747762304: TensorSpec(shape=(), dtype=tf.resource, name=None)\n",
            "  135742747628768: TensorSpec(shape=(), dtype=tf.resource, name=None)\n",
            "  135742747767232: TensorSpec(shape=(), dtype=tf.resource, name=None)\n",
            "  135742747769696: TensorSpec(shape=(), dtype=tf.resource, name=None)\n",
            "  135742747765824: TensorSpec(shape=(), dtype=tf.resource, name=None)\n",
            "  135742747768464: TensorSpec(shape=(), dtype=tf.resource, name=None)\n",
            "  135742747766176: TensorSpec(shape=(), dtype=tf.resource, name=None)\n",
            "  135742752919392: TensorSpec(shape=(), dtype=tf.resource, name=None)\n",
            "  135742752922032: TensorSpec(shape=(), dtype=tf.resource, name=None)\n",
            "  135742752917984: TensorSpec(shape=(), dtype=tf.resource, name=None)\n",
            "  135742752919920: TensorSpec(shape=(), dtype=tf.resource, name=None)\n",
            "  135742752928192: TensorSpec(shape=(), dtype=tf.resource, name=None)\n",
            "  135742752927136: TensorSpec(shape=(), dtype=tf.resource, name=None)\n",
            "  135742752929600: TensorSpec(shape=(), dtype=tf.resource, name=None)\n",
            "  135742752916048: TensorSpec(shape=(), dtype=tf.resource, name=None)\n",
            "  135742752928368: TensorSpec(shape=(), dtype=tf.resource, name=None)\n",
            "  135742747700816: TensorSpec(shape=(), dtype=tf.resource, name=None)\n",
            "  135742752985456: TensorSpec(shape=(), dtype=tf.resource, name=None)\n",
            "  135742752985104: TensorSpec(shape=(), dtype=tf.resource, name=None)\n",
            "  135742752982640: TensorSpec(shape=(), dtype=tf.resource, name=None)\n",
            "  135742752985280: TensorSpec(shape=(), dtype=tf.resource, name=None)\n",
            "  135742752993904: TensorSpec(shape=(), dtype=tf.resource, name=None)\n",
            "  135742752992848: TensorSpec(shape=(), dtype=tf.resource, name=None)\n",
            "  135742752995488: TensorSpec(shape=(), dtype=tf.resource, name=None)\n",
            "  135742752982992: TensorSpec(shape=(), dtype=tf.resource, name=None)\n",
            "  135742752993376: TensorSpec(shape=(), dtype=tf.resource, name=None)\n",
            "  135742752989504: TensorSpec(shape=(), dtype=tf.resource, name=None)\n",
            "  135742752838352: TensorSpec(shape=(), dtype=tf.resource, name=None)\n",
            "  135742752839408: TensorSpec(shape=(), dtype=tf.resource, name=None)\n",
            "  135742752835536: TensorSpec(shape=(), dtype=tf.resource, name=None)\n",
            "  135742752838176: TensorSpec(shape=(), dtype=tf.resource, name=None)\n",
            "  135742752916224: TensorSpec(shape=(), dtype=tf.resource, name=None)\n",
            "  135742752843104: TensorSpec(shape=(), dtype=tf.resource, name=None)\n",
            "  135742752845568: TensorSpec(shape=(), dtype=tf.resource, name=None)\n",
            "  135742752841696: TensorSpec(shape=(), dtype=tf.resource, name=None)\n",
            "  135742752844336: TensorSpec(shape=(), dtype=tf.resource, name=None)\n",
            "  135742752848384: TensorSpec(shape=(), dtype=tf.resource, name=None)\n",
            "  135742752539216: TensorSpec(shape=(), dtype=tf.resource, name=None)\n",
            "  135742752538864: TensorSpec(shape=(), dtype=tf.resource, name=None)\n",
            "  135742752847504: TensorSpec(shape=(), dtype=tf.resource, name=None)\n",
            "  135742752540976: TensorSpec(shape=(), dtype=tf.resource, name=None)\n",
            "  135742752847152: TensorSpec(shape=(), dtype=tf.resource, name=None)\n",
            "  135742752547136: TensorSpec(shape=(), dtype=tf.resource, name=None)\n",
            "  135742752549600: TensorSpec(shape=(), dtype=tf.resource, name=None)\n",
            "  135742752545728: TensorSpec(shape=(), dtype=tf.resource, name=None)\n",
            "  135742752548368: TensorSpec(shape=(), dtype=tf.resource, name=None)\n",
            "  135742752541328: TensorSpec(shape=(), dtype=tf.resource, name=None)\n",
            "  135742752605456: TensorSpec(shape=(), dtype=tf.resource, name=None)\n",
            "  135742752605808: TensorSpec(shape=(), dtype=tf.resource, name=None)\n",
            "  135742752553648: TensorSpec(shape=(), dtype=tf.resource, name=None)\n",
            "  135742752604224: TensorSpec(shape=(), dtype=tf.resource, name=None)\n",
            "  135742752551712: TensorSpec(shape=(), dtype=tf.resource, name=None)\n",
            "  135742752611440: TensorSpec(shape=(), dtype=tf.resource, name=None)\n",
            "  135742752614080: TensorSpec(shape=(), dtype=tf.resource, name=None)\n",
            "  135742752610032: TensorSpec(shape=(), dtype=tf.resource, name=None)\n",
            "  135742752611968: TensorSpec(shape=(), dtype=tf.resource, name=None)\n",
            "  135742752620240: TensorSpec(shape=(), dtype=tf.resource, name=None)\n",
            "  135742752610384: TensorSpec(shape=(), dtype=tf.resource, name=None)\n",
            "  135742752615664: TensorSpec(shape=(), dtype=tf.resource, name=None)\n",
            "  135742752617424: TensorSpec(shape=(), dtype=tf.resource, name=None)\n",
            "  135742752703056: TensorSpec(shape=(), dtype=tf.resource, name=None)\n",
            "  135742752847328: TensorSpec(shape=(), dtype=tf.resource, name=None)\n",
            "  135742752710272: TensorSpec(shape=(), dtype=tf.resource, name=None)\n",
            "  135742752711328: TensorSpec(shape=(), dtype=tf.resource, name=None)\n",
            "  135742752707456: TensorSpec(shape=(), dtype=tf.resource, name=None)\n",
            "  135742752710096: TensorSpec(shape=(), dtype=tf.resource, name=None)\n",
            "  135742752715552: TensorSpec(shape=(), dtype=tf.resource, name=None)\n",
            "  135742752715200: TensorSpec(shape=(), dtype=tf.resource, name=None)\n",
            "  135742752714848: TensorSpec(shape=(), dtype=tf.resource, name=None)\n",
            "  135742752716608: TensorSpec(shape=(), dtype=tf.resource, name=None)\n",
            "  135742752801712: TensorSpec(shape=(), dtype=tf.resource, name=None)\n",
            "  135742752810160: TensorSpec(shape=(), dtype=tf.resource, name=None)\n",
            "  135742752813856: TensorSpec(shape=(), dtype=tf.resource, name=None)\n",
            "  135742752812976: TensorSpec(shape=(), dtype=tf.resource, name=None)\n",
            "  135742752814736: TensorSpec(shape=(), dtype=tf.resource, name=None)\n",
            "  135742752816320: TensorSpec(shape=(), dtype=tf.resource, name=None)\n",
            "  135742752813328: TensorSpec(shape=(), dtype=tf.resource, name=None)\n",
            "  135742752347712: TensorSpec(shape=(), dtype=tf.resource, name=None)\n",
            "  135742752348768: TensorSpec(shape=(), dtype=tf.resource, name=None)\n",
            "  135742752344896: TensorSpec(shape=(), dtype=tf.resource, name=None)\n",
            "  135742752347536: TensorSpec(shape=(), dtype=tf.resource, name=None)\n",
            "  135742752354752: TensorSpec(shape=(), dtype=tf.resource, name=None)\n",
            "  135742752353696: TensorSpec(shape=(), dtype=tf.resource, name=None)\n",
            "  135742752356336: TensorSpec(shape=(), dtype=tf.resource, name=None)\n",
            "  135742752345248: TensorSpec(shape=(), dtype=tf.resource, name=None)\n",
            "  135742752354224: TensorSpec(shape=(), dtype=tf.resource, name=None)\n",
            "  135742752350352: TensorSpec(shape=(), dtype=tf.resource, name=None)\n",
            "  135742752035360: TensorSpec(shape=(), dtype=tf.resource, name=None)\n",
            "  135742752035008: TensorSpec(shape=(), dtype=tf.resource, name=None)\n",
            "  135742752032544: TensorSpec(shape=(), dtype=tf.resource, name=None)\n",
            "  135742752035184: TensorSpec(shape=(), dtype=tf.resource, name=None)\n",
            "  135742752814208: TensorSpec(shape=(), dtype=tf.resource, name=None)\n",
            "  135742752041520: TensorSpec(shape=(), dtype=tf.resource, name=None)\n",
            "  135742752043984: TensorSpec(shape=(), dtype=tf.resource, name=None)\n",
            "  135742752040112: TensorSpec(shape=(), dtype=tf.resource, name=None)\n",
            "  135742752042752: TensorSpec(shape=(), dtype=tf.resource, name=None)\n",
            "  135742752046800: TensorSpec(shape=(), dtype=tf.resource, name=None)\n",
            "  135742752081696: TensorSpec(shape=(), dtype=tf.resource, name=None)\n",
            "  135742752083808: TensorSpec(shape=(), dtype=tf.resource, name=None)\n",
            "  135742752079936: TensorSpec(shape=(), dtype=tf.resource, name=None)\n",
            "  135742752083456: TensorSpec(shape=(), dtype=tf.resource, name=None)\n",
            "  135742752045568: TensorSpec(shape=(), dtype=tf.resource, name=None)\n",
            "  135742752089616: TensorSpec(shape=(), dtype=tf.resource, name=None)\n",
            "  135742752092080: TensorSpec(shape=(), dtype=tf.resource, name=None)\n",
            "  135742752088208: TensorSpec(shape=(), dtype=tf.resource, name=None)\n",
            "  135742752090848: TensorSpec(shape=(), dtype=tf.resource, name=None)\n",
            "  135742752080640: TensorSpec(shape=(), dtype=tf.resource, name=None)\n",
            "  135742752164320: TensorSpec(shape=(), dtype=tf.resource, name=None)\n",
            "  135742752162384: TensorSpec(shape=(), dtype=tf.resource, name=None)\n",
            "  135742752162032: TensorSpec(shape=(), dtype=tf.resource, name=None)\n",
            "  135742752164496: TensorSpec(shape=(), dtype=tf.resource, name=None)\n",
            "  135742752171360: TensorSpec(shape=(), dtype=tf.resource, name=None)\n",
            "  135742752170304: TensorSpec(shape=(), dtype=tf.resource, name=None)\n",
            "  135742752172944: TensorSpec(shape=(), dtype=tf.resource, name=None)\n",
            "  135742752163968: TensorSpec(shape=(), dtype=tf.resource, name=None)\n",
            "  135742752170832: TensorSpec(shape=(), dtype=tf.resource, name=None)\n",
            "  135742752175936: TensorSpec(shape=(), dtype=tf.resource, name=None)\n",
            "  135742772708800: TensorSpec(shape=(), dtype=tf.resource, name=None)\n",
            "  135742772707568: TensorSpec(shape=(), dtype=tf.resource, name=None)\n",
            "  135742752176992: TensorSpec(shape=(), dtype=tf.resource, name=None)\n",
            "  135742772707392: TensorSpec(shape=(), dtype=tf.resource, name=None)\n",
            "  135742752045744: TensorSpec(shape=(), dtype=tf.resource, name=None)\n",
            "  135742772716368: TensorSpec(shape=(), dtype=tf.resource, name=None)\n",
            "  135742772717424: TensorSpec(shape=(), dtype=tf.resource, name=None)\n",
            "  135742772713552: TensorSpec(shape=(), dtype=tf.resource, name=None)\n",
            "  135742772716192: TensorSpec(shape=(), dtype=tf.resource, name=None)\n",
            "  135742772723408: TensorSpec(shape=(), dtype=tf.resource, name=None)\n",
            "  135742772719888: TensorSpec(shape=(), dtype=tf.resource, name=None)\n",
            "  135742772719536: TensorSpec(shape=(), dtype=tf.resource, name=None)\n",
            "  135742772720592: TensorSpec(shape=(), dtype=tf.resource, name=None)\n",
            "  135742772722176: TensorSpec(shape=(), dtype=tf.resource, name=None)\n",
            "  135742772719008: TensorSpec(shape=(), dtype=tf.resource, name=None)\n",
            "  135742772223792: TensorSpec(shape=(), dtype=tf.resource, name=None)\n",
            "  135742772224848: TensorSpec(shape=(), dtype=tf.resource, name=None)\n",
            "  135742772220976: TensorSpec(shape=(), dtype=tf.resource, name=None)\n",
            "  135742772223616: TensorSpec(shape=(), dtype=tf.resource, name=None)\n",
            "  135742752167136: TensorSpec(shape=(), dtype=tf.resource, name=None)\n",
            "  135742772228544: TensorSpec(shape=(), dtype=tf.resource, name=None)\n",
            "  135742772231008: TensorSpec(shape=(), dtype=tf.resource, name=None)\n",
            "  135742772227136: TensorSpec(shape=(), dtype=tf.resource, name=None)\n",
            "  135742772229776: TensorSpec(shape=(), dtype=tf.resource, name=None)\n",
            "  135742772227488: TensorSpec(shape=(), dtype=tf.resource, name=None)\n",
            "  135742772498272: TensorSpec(shape=(), dtype=tf.resource, name=None)\n",
            "  135742772500912: TensorSpec(shape=(), dtype=tf.resource, name=None)\n",
            "  135742772496864: TensorSpec(shape=(), dtype=tf.resource, name=None)\n",
            "  135742772498800: TensorSpec(shape=(), dtype=tf.resource, name=None)\n",
            "  135742772507072: TensorSpec(shape=(), dtype=tf.resource, name=None)\n",
            "  135742772506016: TensorSpec(shape=(), dtype=tf.resource, name=None)\n",
            "  135742772508480: TensorSpec(shape=(), dtype=tf.resource, name=None)\n",
            "  135742772494928: TensorSpec(shape=(), dtype=tf.resource, name=None)\n",
            "  135742772507248: TensorSpec(shape=(), dtype=tf.resource, name=None)\n",
            "  135742772719184: TensorSpec(shape=(), dtype=tf.resource, name=None)\n",
            "  135742771990896: TensorSpec(shape=(), dtype=tf.resource, name=None)\n",
            "  135742771990544: TensorSpec(shape=(), dtype=tf.resource, name=None)\n",
            "  135742771988080: TensorSpec(shape=(), dtype=tf.resource, name=None)\n",
            "  135742771990720: TensorSpec(shape=(), dtype=tf.resource, name=None)\n",
            "  135742771997936: TensorSpec(shape=(), dtype=tf.resource, name=None)\n",
            "  135742771996880: TensorSpec(shape=(), dtype=tf.resource, name=None)\n",
            "  135742771999520: TensorSpec(shape=(), dtype=tf.resource, name=None)\n",
            "  135742771988432: TensorSpec(shape=(), dtype=tf.resource, name=None)\n",
            "  135742771997408: TensorSpec(shape=(), dtype=tf.resource, name=None)\n",
            "  135742772002512: TensorSpec(shape=(), dtype=tf.resource, name=None)\n",
            "  135742772170064: TensorSpec(shape=(), dtype=tf.resource, name=None)\n",
            "  135742772167600: TensorSpec(shape=(), dtype=tf.resource, name=None)\n",
            "  135742772166720: TensorSpec(shape=(), dtype=tf.resource, name=None)\n",
            "  135742772170240: TensorSpec(shape=(), dtype=tf.resource, name=None)\n",
            "  135742772495104: TensorSpec(shape=(), dtype=tf.resource, name=None)\n",
            "  135742772176224: TensorSpec(shape=(), dtype=tf.resource, name=None)\n",
            "  135742772178688: TensorSpec(shape=(), dtype=tf.resource, name=None)\n",
            "  135742772174816: TensorSpec(shape=(), dtype=tf.resource, name=None)\n",
            "  135742772177456: TensorSpec(shape=(), dtype=tf.resource, name=None)\n",
            "  135742772175168: TensorSpec(shape=(), dtype=tf.resource, name=None)\n",
            "  135742772545488: TensorSpec(shape=(), dtype=tf.resource, name=None)\n",
            "  135742772547776: TensorSpec(shape=(), dtype=tf.resource, name=None)\n",
            "  135742772543728: TensorSpec(shape=(), dtype=tf.resource, name=None)\n",
            "  135742772547248: TensorSpec(shape=(), dtype=tf.resource, name=None)\n",
            "  135742772181680: TensorSpec(shape=(), dtype=tf.resource, name=None)\n",
            "  135742772553408: TensorSpec(shape=(), dtype=tf.resource, name=None)\n",
            "  135742772555872: TensorSpec(shape=(), dtype=tf.resource, name=None)\n",
            "  135742772552000: TensorSpec(shape=(), dtype=tf.resource, name=None)\n",
            "  135742772554640: TensorSpec(shape=(), dtype=tf.resource, name=None)\n",
            "  135742772544432: TensorSpec(shape=(), dtype=tf.resource, name=None)\n",
            "  135742772643088: TensorSpec(shape=(), dtype=tf.resource, name=None)\n",
            "  135742772643440: TensorSpec(shape=(), dtype=tf.resource, name=None)\n",
            "  135742772558512: TensorSpec(shape=(), dtype=tf.resource, name=None)\n",
            "  135742772641856: TensorSpec(shape=(), dtype=tf.resource, name=None)\n",
            "  135742772556576: TensorSpec(shape=(), dtype=tf.resource, name=None)\n",
            "  135742772649072: TensorSpec(shape=(), dtype=tf.resource, name=None)\n",
            "  135742772651712: TensorSpec(shape=(), dtype=tf.resource, name=None)\n",
            "  135742772647664: TensorSpec(shape=(), dtype=tf.resource, name=None)\n",
            "  135742772649600: TensorSpec(shape=(), dtype=tf.resource, name=None)\n",
            "  135742772657872: TensorSpec(shape=(), dtype=tf.resource, name=None)\n",
            "  135742772648016: TensorSpec(shape=(), dtype=tf.resource, name=None)\n",
            "  135742772653296: TensorSpec(shape=(), dtype=tf.resource, name=None)\n",
            "  135742772655056: TensorSpec(shape=(), dtype=tf.resource, name=None)\n",
            "  135742772887616: TensorSpec(shape=(), dtype=tf.resource, name=None)\n",
            "  135742772181856: TensorSpec(shape=(), dtype=tf.resource, name=None)\n",
            "  135742772895360: TensorSpec(shape=(), dtype=tf.resource, name=None)\n",
            "  135742772896416: TensorSpec(shape=(), dtype=tf.resource, name=None)\n",
            "  135742772892544: TensorSpec(shape=(), dtype=tf.resource, name=None)\n",
            "  135742772895184: TensorSpec(shape=(), dtype=tf.resource, name=None)\n",
            "  135742772902400: TensorSpec(shape=(), dtype=tf.resource, name=None)\n",
            "  135742772901344: TensorSpec(shape=(), dtype=tf.resource, name=None)\n",
            "  135742772898528: TensorSpec(shape=(), dtype=tf.resource, name=None)\n",
            "  135742772892896: TensorSpec(shape=(), dtype=tf.resource, name=None)\n",
            "  135742772901872: TensorSpec(shape=(), dtype=tf.resource, name=None)\n",
            "  135742772898000: TensorSpec(shape=(), dtype=tf.resource, name=None)\n",
            "  135742772828768: TensorSpec(shape=(), dtype=tf.resource, name=None)\n",
            "  135742772829824: TensorSpec(shape=(), dtype=tf.resource, name=None)\n",
            "  135742772825952: TensorSpec(shape=(), dtype=tf.resource, name=None)\n",
            "  135742772828592: TensorSpec(shape=(), dtype=tf.resource, name=None)\n",
            "  135742772645904: TensorSpec(shape=(), dtype=tf.resource, name=None)\n",
            "  135742772834928: TensorSpec(shape=(), dtype=tf.resource, name=None)\n",
            "  135742772837392: TensorSpec(shape=(), dtype=tf.resource, name=None)\n",
            "  135742772833520: TensorSpec(shape=(), dtype=tf.resource, name=None)\n",
            "  135742772836160: TensorSpec(shape=(), dtype=tf.resource, name=None)\n",
            "  135742772833872: TensorSpec(shape=(), dtype=tf.resource, name=None)\n",
            "  135742772236304: TensorSpec(shape=(), dtype=tf.resource, name=None)\n",
            "  135742772238944: TensorSpec(shape=(), dtype=tf.resource, name=None)\n",
            "  135742772234896: TensorSpec(shape=(), dtype=tf.resource, name=None)\n",
            "  135742772236832: TensorSpec(shape=(), dtype=tf.resource, name=None)\n",
            "  135742772245104: TensorSpec(shape=(), dtype=tf.resource, name=None)\n",
            "  135742772244048: TensorSpec(shape=(), dtype=tf.resource, name=None)\n",
            "  135742772246512: TensorSpec(shape=(), dtype=tf.resource, name=None)\n",
            "  135742772232960: TensorSpec(shape=(), dtype=tf.resource, name=None)\n",
            "  135742772245280: TensorSpec(shape=(), dtype=tf.resource, name=None)\n",
            "  135742747285936: TensorSpec(shape=(), dtype=tf.resource, name=None)\n",
            "  135742772248096: TensorSpec(shape=(), dtype=tf.resource, name=None)\n",
            "  135745592457904: TensorSpec(shape=(), dtype=tf.resource, name=None)\n",
            "  135745573885680: TensorSpec(shape=(), dtype=tf.resource, name=None)\n",
            "  135742772240880: TensorSpec(shape=(), dtype=tf.resource, name=None)\n",
            "  135742729163824: TensorSpec(shape=(), dtype=tf.resource, name=None)\n",
            "  135742729164704: TensorSpec(shape=(), dtype=tf.resource, name=None)\n",
            "  135742729159952: TensorSpec(shape=(), dtype=tf.resource, name=None)\n",
            "  135742729166640: TensorSpec(shape=(), dtype=tf.resource, name=None)\n"
          ]
        }
      ],
      "source": [
        "import tensorflow as tf\n",
        "\n",
        "# Convertir le modèle en TensorFlow Lite\n",
        "converter = tf.lite.TFLiteConverter.from_keras_model(model)  # Ou utilisez `from_saved_model` si le modèle est enregistré\n",
        "tflite_model = converter.convert()\n",
        "\n",
        "# Sauvegarder le modèle TFLite\n",
        "with open('model.tflite', 'wb') as f:\n",
        "    f.write(tflite_model)"
      ]
    }
  ],
  "metadata": {
    "colab": {
      "name": "PlantDiseasesIdentifier",
      "provenance": []
    },
    "kaggle": {
      "accelerator": "none",
      "dataSources": [
        {
          "datasetId": 70909,
          "sourceId": 150545,
          "sourceType": "datasetVersion"
        },
        {
          "isSourceIdPinned": true,
          "modelId": 192089,
          "modelInstanceId": 169745,
          "sourceId": 199008,
          "sourceType": "modelInstanceVersion"
        }
      ],
      "dockerImageVersionId": 30804,
      "isGpuEnabled": false,
      "isInternetEnabled": false,
      "language": "python",
      "sourceType": "notebook"
    },
    "kernelspec": {
      "display_name": "Python 3",
      "language": "python",
      "name": "python3"
    },
    "language_info": {
      "codemirror_mode": {
        "name": "ipython",
        "version": 3
      },
      "file_extension": ".py",
      "mimetype": "text/x-python",
      "name": "python",
      "nbconvert_exporter": "python",
      "pygments_lexer": "ipython3",
      "version": "3.10.14"
    },
    "widgets": {
      "application/vnd.jupyter.widget-state+json": {
        "153814d4c95f49359db0ba7f3c07ffa6": {
          "model_module": "@jupyter-widgets/base",
          "model_module_version": "1.2.0",
          "model_name": "LayoutModel",
          "state": {
            "_model_module": "@jupyter-widgets/base",
            "_model_module_version": "1.2.0",
            "_model_name": "LayoutModel",
            "_view_count": null,
            "_view_module": "@jupyter-widgets/base",
            "_view_module_version": "1.2.0",
            "_view_name": "LayoutView",
            "align_content": null,
            "align_items": null,
            "align_self": null,
            "border": null,
            "bottom": null,
            "display": null,
            "flex": null,
            "flex_flow": null,
            "grid_area": null,
            "grid_auto_columns": null,
            "grid_auto_flow": null,
            "grid_auto_rows": null,
            "grid_column": null,
            "grid_gap": null,
            "grid_row": null,
            "grid_template_areas": null,
            "grid_template_columns": null,
            "grid_template_rows": null,
            "height": null,
            "justify_content": null,
            "justify_items": null,
            "left": null,
            "margin": null,
            "max_height": null,
            "max_width": null,
            "min_height": null,
            "min_width": null,
            "object_fit": null,
            "object_position": null,
            "order": null,
            "overflow": null,
            "overflow_x": null,
            "overflow_y": null,
            "padding": null,
            "right": null,
            "top": null,
            "visibility": null,
            "width": null
          }
        },
        "29358a87e3b74a61892982471bb1e0af": {
          "model_module": "@jupyter-widgets/controls",
          "model_module_version": "1.5.0",
          "model_name": "LabelModel",
          "state": {
            "_dom_classes": [],
            "_model_module": "@jupyter-widgets/controls",
            "_model_module_version": "1.5.0",
            "_model_name": "LabelModel",
            "_view_count": null,
            "_view_module": "@jupyter-widgets/controls",
            "_view_module_version": "1.5.0",
            "_view_name": "LabelView",
            "description": "",
            "description_tooltip": null,
            "layout": "IPY_MODEL_2b09b9969cca49b3ad8692d80eef6559",
            "placeholder": "​",
            "style": "IPY_MODEL_71b186b015e74c0badc1e533659e0b64",
            "value": "Kaggle credentials successfully validated."
          }
        },
        "2b09b9969cca49b3ad8692d80eef6559": {
          "model_module": "@jupyter-widgets/base",
          "model_module_version": "1.2.0",
          "model_name": "LayoutModel",
          "state": {
            "_model_module": "@jupyter-widgets/base",
            "_model_module_version": "1.2.0",
            "_model_name": "LayoutModel",
            "_view_count": null,
            "_view_module": "@jupyter-widgets/base",
            "_view_module_version": "1.2.0",
            "_view_name": "LayoutView",
            "align_content": null,
            "align_items": null,
            "align_self": null,
            "border": null,
            "bottom": null,
            "display": null,
            "flex": null,
            "flex_flow": null,
            "grid_area": null,
            "grid_auto_columns": null,
            "grid_auto_flow": null,
            "grid_auto_rows": null,
            "grid_column": null,
            "grid_gap": null,
            "grid_row": null,
            "grid_template_areas": null,
            "grid_template_columns": null,
            "grid_template_rows": null,
            "height": null,
            "justify_content": null,
            "justify_items": null,
            "left": null,
            "margin": null,
            "max_height": null,
            "max_width": null,
            "min_height": null,
            "min_width": null,
            "object_fit": null,
            "object_position": null,
            "order": null,
            "overflow": null,
            "overflow_x": null,
            "overflow_y": null,
            "padding": null,
            "right": null,
            "top": null,
            "visibility": null,
            "width": null
          }
        },
        "38504228ea4a4c429abbb47adde65526": {
          "model_module": "@jupyter-widgets/controls",
          "model_module_version": "1.5.0",
          "model_name": "DescriptionStyleModel",
          "state": {
            "_model_module": "@jupyter-widgets/controls",
            "_model_module_version": "1.5.0",
            "_model_name": "DescriptionStyleModel",
            "_view_count": null,
            "_view_module": "@jupyter-widgets/base",
            "_view_module_version": "1.2.0",
            "_view_name": "StyleView",
            "description_width": ""
          }
        },
        "4930473dd35b42cea7e9d64fb024877d": {
          "model_module": "@jupyter-widgets/base",
          "model_module_version": "1.2.0",
          "model_name": "LayoutModel",
          "state": {
            "_model_module": "@jupyter-widgets/base",
            "_model_module_version": "1.2.0",
            "_model_name": "LayoutModel",
            "_view_count": null,
            "_view_module": "@jupyter-widgets/base",
            "_view_module_version": "1.2.0",
            "_view_name": "LayoutView",
            "align_content": null,
            "align_items": "center",
            "align_self": null,
            "border": null,
            "bottom": null,
            "display": "flex",
            "flex": null,
            "flex_flow": "column",
            "grid_area": null,
            "grid_auto_columns": null,
            "grid_auto_flow": null,
            "grid_auto_rows": null,
            "grid_column": null,
            "grid_gap": null,
            "grid_row": null,
            "grid_template_areas": null,
            "grid_template_columns": null,
            "grid_template_rows": null,
            "height": null,
            "justify_content": null,
            "justify_items": null,
            "left": null,
            "margin": null,
            "max_height": null,
            "max_width": null,
            "min_height": null,
            "min_width": null,
            "object_fit": null,
            "object_position": null,
            "order": null,
            "overflow": null,
            "overflow_x": null,
            "overflow_y": null,
            "padding": null,
            "right": null,
            "top": null,
            "visibility": null,
            "width": "50%"
          }
        },
        "5d396a60f8f040c794a4212c3fe4f77d": {
          "model_module": "@jupyter-widgets/base",
          "model_module_version": "1.2.0",
          "model_name": "LayoutModel",
          "state": {
            "_model_module": "@jupyter-widgets/base",
            "_model_module_version": "1.2.0",
            "_model_name": "LayoutModel",
            "_view_count": null,
            "_view_module": "@jupyter-widgets/base",
            "_view_module_version": "1.2.0",
            "_view_name": "LayoutView",
            "align_content": null,
            "align_items": null,
            "align_self": null,
            "border": null,
            "bottom": null,
            "display": null,
            "flex": null,
            "flex_flow": null,
            "grid_area": null,
            "grid_auto_columns": null,
            "grid_auto_flow": null,
            "grid_auto_rows": null,
            "grid_column": null,
            "grid_gap": null,
            "grid_row": null,
            "grid_template_areas": null,
            "grid_template_columns": null,
            "grid_template_rows": null,
            "height": null,
            "justify_content": null,
            "justify_items": null,
            "left": null,
            "margin": null,
            "max_height": null,
            "max_width": null,
            "min_height": null,
            "min_width": null,
            "object_fit": null,
            "object_position": null,
            "order": null,
            "overflow": null,
            "overflow_x": null,
            "overflow_y": null,
            "padding": null,
            "right": null,
            "top": null,
            "visibility": null,
            "width": null
          }
        },
        "6b1d9e04c9ae4f9790a694a473a5c4e3": {
          "model_module": "@jupyter-widgets/base",
          "model_module_version": "1.2.0",
          "model_name": "LayoutModel",
          "state": {
            "_model_module": "@jupyter-widgets/base",
            "_model_module_version": "1.2.0",
            "_model_name": "LayoutModel",
            "_view_count": null,
            "_view_module": "@jupyter-widgets/base",
            "_view_module_version": "1.2.0",
            "_view_name": "LayoutView",
            "align_content": null,
            "align_items": null,
            "align_self": null,
            "border": null,
            "bottom": null,
            "display": null,
            "flex": null,
            "flex_flow": null,
            "grid_area": null,
            "grid_auto_columns": null,
            "grid_auto_flow": null,
            "grid_auto_rows": null,
            "grid_column": null,
            "grid_gap": null,
            "grid_row": null,
            "grid_template_areas": null,
            "grid_template_columns": null,
            "grid_template_rows": null,
            "height": null,
            "justify_content": null,
            "justify_items": null,
            "left": null,
            "margin": null,
            "max_height": null,
            "max_width": null,
            "min_height": null,
            "min_width": null,
            "object_fit": null,
            "object_position": null,
            "order": null,
            "overflow": null,
            "overflow_x": null,
            "overflow_y": null,
            "padding": null,
            "right": null,
            "top": null,
            "visibility": null,
            "width": null
          }
        },
        "6ca567592ce044619262821f52a3a53a": {
          "model_module": "@jupyter-widgets/controls",
          "model_module_version": "1.5.0",
          "model_name": "DescriptionStyleModel",
          "state": {
            "_model_module": "@jupyter-widgets/controls",
            "_model_module_version": "1.5.0",
            "_model_name": "DescriptionStyleModel",
            "_view_count": null,
            "_view_module": "@jupyter-widgets/base",
            "_view_module_version": "1.2.0",
            "_view_name": "StyleView",
            "description_width": ""
          }
        },
        "6e64712267854773af7b88b6da524f10": {
          "model_module": "@jupyter-widgets/controls",
          "model_module_version": "1.5.0",
          "model_name": "LabelModel",
          "state": {
            "_dom_classes": [],
            "_model_module": "@jupyter-widgets/controls",
            "_model_module_version": "1.5.0",
            "_model_name": "LabelModel",
            "_view_count": null,
            "_view_module": "@jupyter-widgets/controls",
            "_view_module_version": "1.5.0",
            "_view_name": "LabelView",
            "description": "",
            "description_tooltip": null,
            "layout": "IPY_MODEL_153814d4c95f49359db0ba7f3c07ffa6",
            "placeholder": "​",
            "style": "IPY_MODEL_cad901a310504c75acae94315e5cdfb3",
            "value": "Connecting..."
          }
        },
        "71b186b015e74c0badc1e533659e0b64": {
          "model_module": "@jupyter-widgets/controls",
          "model_module_version": "1.5.0",
          "model_name": "DescriptionStyleModel",
          "state": {
            "_model_module": "@jupyter-widgets/controls",
            "_model_module_version": "1.5.0",
            "_model_name": "DescriptionStyleModel",
            "_view_count": null,
            "_view_module": "@jupyter-widgets/base",
            "_view_module_version": "1.2.0",
            "_view_name": "StyleView",
            "description_width": ""
          }
        },
        "7a1fe3cfb1854701a0d42c8c52505e85": {
          "model_module": "@jupyter-widgets/controls",
          "model_module_version": "1.5.0",
          "model_name": "HTMLModel",
          "state": {
            "_dom_classes": [],
            "_model_module": "@jupyter-widgets/controls",
            "_model_module_version": "1.5.0",
            "_model_name": "HTMLModel",
            "_view_count": null,
            "_view_module": "@jupyter-widgets/controls",
            "_view_module_version": "1.5.0",
            "_view_name": "HTMLView",
            "description": "",
            "description_tooltip": null,
            "layout": "IPY_MODEL_6b1d9e04c9ae4f9790a694a473a5c4e3",
            "placeholder": "​",
            "style": "IPY_MODEL_6ca567592ce044619262821f52a3a53a",
            "value": "<center> <img\nsrc=https://www.kaggle.com/static/images/site-logo.png\nalt='Kaggle'> <br> Create an API token from <a\nhref=\"https://www.kaggle.com/settings/account\" target=\"_blank\">your Kaggle\nsettings page</a> and paste it below along with your Kaggle username. <br> </center>"
          }
        },
        "aae4f94c98214ebfaf729bc6255e3aec": {
          "model_module": "@jupyter-widgets/base",
          "model_module_version": "1.2.0",
          "model_name": "LayoutModel",
          "state": {
            "_model_module": "@jupyter-widgets/base",
            "_model_module_version": "1.2.0",
            "_model_name": "LayoutModel",
            "_view_count": null,
            "_view_module": "@jupyter-widgets/base",
            "_view_module_version": "1.2.0",
            "_view_name": "LayoutView",
            "align_content": null,
            "align_items": null,
            "align_self": null,
            "border": null,
            "bottom": null,
            "display": null,
            "flex": null,
            "flex_flow": null,
            "grid_area": null,
            "grid_auto_columns": null,
            "grid_auto_flow": null,
            "grid_auto_rows": null,
            "grid_column": null,
            "grid_gap": null,
            "grid_row": null,
            "grid_template_areas": null,
            "grid_template_columns": null,
            "grid_template_rows": null,
            "height": null,
            "justify_content": null,
            "justify_items": null,
            "left": null,
            "margin": null,
            "max_height": null,
            "max_width": null,
            "min_height": null,
            "min_width": null,
            "object_fit": null,
            "object_position": null,
            "order": null,
            "overflow": null,
            "overflow_x": null,
            "overflow_y": null,
            "padding": null,
            "right": null,
            "top": null,
            "visibility": null,
            "width": null
          }
        },
        "adb3183c3fb34576a485d3dd073fd2d6": {
          "model_module": "@jupyter-widgets/base",
          "model_module_version": "1.2.0",
          "model_name": "LayoutModel",
          "state": {
            "_model_module": "@jupyter-widgets/base",
            "_model_module_version": "1.2.0",
            "_model_name": "LayoutModel",
            "_view_count": null,
            "_view_module": "@jupyter-widgets/base",
            "_view_module_version": "1.2.0",
            "_view_name": "LayoutView",
            "align_content": null,
            "align_items": null,
            "align_self": null,
            "border": null,
            "bottom": null,
            "display": null,
            "flex": null,
            "flex_flow": null,
            "grid_area": null,
            "grid_auto_columns": null,
            "grid_auto_flow": null,
            "grid_auto_rows": null,
            "grid_column": null,
            "grid_gap": null,
            "grid_row": null,
            "grid_template_areas": null,
            "grid_template_columns": null,
            "grid_template_rows": null,
            "height": null,
            "justify_content": null,
            "justify_items": null,
            "left": null,
            "margin": null,
            "max_height": null,
            "max_width": null,
            "min_height": null,
            "min_width": null,
            "object_fit": null,
            "object_position": null,
            "order": null,
            "overflow": null,
            "overflow_x": null,
            "overflow_y": null,
            "padding": null,
            "right": null,
            "top": null,
            "visibility": null,
            "width": null
          }
        },
        "afba5496128a4b6c943d547e1633f60b": {
          "model_module": "@jupyter-widgets/controls",
          "model_module_version": "1.5.0",
          "model_name": "DescriptionStyleModel",
          "state": {
            "_model_module": "@jupyter-widgets/controls",
            "_model_module_version": "1.5.0",
            "_model_name": "DescriptionStyleModel",
            "_view_count": null,
            "_view_module": "@jupyter-widgets/base",
            "_view_module_version": "1.2.0",
            "_view_name": "StyleView",
            "description_width": ""
          }
        },
        "b91af86250bf47588a20a1c503b669c1": {
          "model_module": "@jupyter-widgets/base",
          "model_module_version": "1.2.0",
          "model_name": "LayoutModel",
          "state": {
            "_model_module": "@jupyter-widgets/base",
            "_model_module_version": "1.2.0",
            "_model_name": "LayoutModel",
            "_view_count": null,
            "_view_module": "@jupyter-widgets/base",
            "_view_module_version": "1.2.0",
            "_view_name": "LayoutView",
            "align_content": null,
            "align_items": null,
            "align_self": null,
            "border": null,
            "bottom": null,
            "display": null,
            "flex": null,
            "flex_flow": null,
            "grid_area": null,
            "grid_auto_columns": null,
            "grid_auto_flow": null,
            "grid_auto_rows": null,
            "grid_column": null,
            "grid_gap": null,
            "grid_row": null,
            "grid_template_areas": null,
            "grid_template_columns": null,
            "grid_template_rows": null,
            "height": null,
            "justify_content": null,
            "justify_items": null,
            "left": null,
            "margin": null,
            "max_height": null,
            "max_width": null,
            "min_height": null,
            "min_width": null,
            "object_fit": null,
            "object_position": null,
            "order": null,
            "overflow": null,
            "overflow_x": null,
            "overflow_y": null,
            "padding": null,
            "right": null,
            "top": null,
            "visibility": null,
            "width": null
          }
        },
        "b96399a3b602471b9670b3dc5fe0af72": {
          "model_module": "@jupyter-widgets/controls",
          "model_module_version": "1.5.0",
          "model_name": "HTMLModel",
          "state": {
            "_dom_classes": [],
            "_model_module": "@jupyter-widgets/controls",
            "_model_module_version": "1.5.0",
            "_model_name": "HTMLModel",
            "_view_count": null,
            "_view_module": "@jupyter-widgets/controls",
            "_view_module_version": "1.5.0",
            "_view_name": "HTMLView",
            "description": "",
            "description_tooltip": null,
            "layout": "IPY_MODEL_b91af86250bf47588a20a1c503b669c1",
            "placeholder": "​",
            "style": "IPY_MODEL_38504228ea4a4c429abbb47adde65526",
            "value": "\n<b>Thank You</b></center>"
          }
        },
        "bd292dff5952464199ac5ea1b15f9995": {
          "model_module": "@jupyter-widgets/controls",
          "model_module_version": "1.5.0",
          "model_name": "PasswordModel",
          "state": {
            "_dom_classes": [],
            "_model_module": "@jupyter-widgets/controls",
            "_model_module_version": "1.5.0",
            "_model_name": "PasswordModel",
            "_view_count": null,
            "_view_module": "@jupyter-widgets/controls",
            "_view_module_version": "1.5.0",
            "_view_name": "PasswordView",
            "continuous_update": true,
            "description": "Token:",
            "description_tooltip": null,
            "disabled": false,
            "layout": "IPY_MODEL_aae4f94c98214ebfaf729bc6255e3aec",
            "placeholder": "​",
            "style": "IPY_MODEL_d2977e0938a347d493f7b4fe0b0893e0",
            "value": ""
          }
        },
        "bfd9092d2366463d9f6a5fbcfdb5b685": {
          "model_module": "@jupyter-widgets/controls",
          "model_module_version": "1.5.0",
          "model_name": "TextModel",
          "state": {
            "_dom_classes": [],
            "_model_module": "@jupyter-widgets/controls",
            "_model_module_version": "1.5.0",
            "_model_name": "TextModel",
            "_view_count": null,
            "_view_module": "@jupyter-widgets/controls",
            "_view_module_version": "1.5.0",
            "_view_name": "TextView",
            "continuous_update": true,
            "description": "Username:",
            "description_tooltip": null,
            "disabled": false,
            "layout": "IPY_MODEL_adb3183c3fb34576a485d3dd073fd2d6",
            "placeholder": "​",
            "style": "IPY_MODEL_afba5496128a4b6c943d547e1633f60b",
            "value": "ayoubdammak"
          }
        },
        "c477966812c64cba8667d1aa872ae105": {
          "model_module": "@jupyter-widgets/controls",
          "model_module_version": "1.5.0",
          "model_name": "ButtonModel",
          "state": {
            "_dom_classes": [],
            "_model_module": "@jupyter-widgets/controls",
            "_model_module_version": "1.5.0",
            "_model_name": "ButtonModel",
            "_view_count": null,
            "_view_module": "@jupyter-widgets/controls",
            "_view_module_version": "1.5.0",
            "_view_name": "ButtonView",
            "button_style": "",
            "description": "Login",
            "disabled": false,
            "icon": "",
            "layout": "IPY_MODEL_5d396a60f8f040c794a4212c3fe4f77d",
            "style": "IPY_MODEL_cbe010b9bb424b2d9484e2266c1c8a4b",
            "tooltip": ""
          }
        },
        "cad901a310504c75acae94315e5cdfb3": {
          "model_module": "@jupyter-widgets/controls",
          "model_module_version": "1.5.0",
          "model_name": "DescriptionStyleModel",
          "state": {
            "_model_module": "@jupyter-widgets/controls",
            "_model_module_version": "1.5.0",
            "_model_name": "DescriptionStyleModel",
            "_view_count": null,
            "_view_module": "@jupyter-widgets/base",
            "_view_module_version": "1.2.0",
            "_view_name": "StyleView",
            "description_width": ""
          }
        },
        "cbe010b9bb424b2d9484e2266c1c8a4b": {
          "model_module": "@jupyter-widgets/controls",
          "model_module_version": "1.5.0",
          "model_name": "ButtonStyleModel",
          "state": {
            "_model_module": "@jupyter-widgets/controls",
            "_model_module_version": "1.5.0",
            "_model_name": "ButtonStyleModel",
            "_view_count": null,
            "_view_module": "@jupyter-widgets/base",
            "_view_module_version": "1.2.0",
            "_view_name": "StyleView",
            "button_color": null,
            "font_weight": ""
          }
        },
        "d2977e0938a347d493f7b4fe0b0893e0": {
          "model_module": "@jupyter-widgets/controls",
          "model_module_version": "1.5.0",
          "model_name": "DescriptionStyleModel",
          "state": {
            "_model_module": "@jupyter-widgets/controls",
            "_model_module_version": "1.5.0",
            "_model_name": "DescriptionStyleModel",
            "_view_count": null,
            "_view_module": "@jupyter-widgets/base",
            "_view_module_version": "1.2.0",
            "_view_name": "StyleView",
            "description_width": ""
          }
        },
        "f955c39c96bb43cd8a23ac78f21bd772": {
          "model_module": "@jupyter-widgets/controls",
          "model_module_version": "1.5.0",
          "model_name": "VBoxModel",
          "state": {
            "_dom_classes": [],
            "_model_module": "@jupyter-widgets/controls",
            "_model_module_version": "1.5.0",
            "_model_name": "VBoxModel",
            "_view_count": null,
            "_view_module": "@jupyter-widgets/controls",
            "_view_module_version": "1.5.0",
            "_view_name": "VBoxView",
            "box_style": "",
            "children": [
              "IPY_MODEL_29358a87e3b74a61892982471bb1e0af"
            ],
            "layout": "IPY_MODEL_4930473dd35b42cea7e9d64fb024877d"
          }
        }
      }
    }
  },
  "nbformat": 4,
  "nbformat_minor": 0
}
