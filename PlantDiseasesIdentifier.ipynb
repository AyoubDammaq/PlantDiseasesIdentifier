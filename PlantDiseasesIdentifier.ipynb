{
  "cells": [
    {
      "cell_type": "code",
      "execution_count": 54,
      "metadata": {
        "colab": {
          "base_uri": "https://localhost:8080/",
          "height": 103,
          "referenced_widgets": [
            "f955c39c96bb43cd8a23ac78f21bd772",
            "7a1fe3cfb1854701a0d42c8c52505e85",
            "bfd9092d2366463d9f6a5fbcfdb5b685",
            "bd292dff5952464199ac5ea1b15f9995",
            "c477966812c64cba8667d1aa872ae105",
            "b96399a3b602471b9670b3dc5fe0af72",
            "4930473dd35b42cea7e9d64fb024877d",
            "6b1d9e04c9ae4f9790a694a473a5c4e3",
            "6ca567592ce044619262821f52a3a53a",
            "adb3183c3fb34576a485d3dd073fd2d6",
            "afba5496128a4b6c943d547e1633f60b",
            "aae4f94c98214ebfaf729bc6255e3aec",
            "d2977e0938a347d493f7b4fe0b0893e0",
            "5d396a60f8f040c794a4212c3fe4f77d",
            "cbe010b9bb424b2d9484e2266c1c8a4b",
            "b91af86250bf47588a20a1c503b669c1",
            "38504228ea4a4c429abbb47adde65526",
            "6e64712267854773af7b88b6da524f10",
            "153814d4c95f49359db0ba7f3c07ffa6",
            "cad901a310504c75acae94315e5cdfb3",
            "29358a87e3b74a61892982471bb1e0af",
            "2b09b9969cca49b3ad8692d80eef6559",
            "71b186b015e74c0badc1e533659e0b64"
          ]
        },
        "id": "fbTABQANL3T_",
        "outputId": "b9dbd2a4-b405-4897-e0b8-3237edd3e2c1"
      },
      "outputs": [
        {
          "data": {
            "application/vnd.jupyter.widget-view+json": {
              "model_id": "f955c39c96bb43cd8a23ac78f21bd772",
              "version_major": 2,
              "version_minor": 0
            },
            "text/plain": [
              "VBox(children=(HTML(value='<center> <img\\nsrc=https://www.kaggle.com/static/images/site-logo.png\\nalt=\\'Kaggle…"
            ]
          },
          "metadata": {},
          "output_type": "display_data"
        },
        {
          "name": "stdout",
          "output_type": "stream",
          "text": [
            "Kaggle credentials set.\n",
            "Warning: Looks like you're using an outdated `kagglehub` version, please consider updating (latest version: 0.3.5)\n",
            "Kaggle credentials successfully validated.\n"
          ]
        }
      ],
      "source": [
        "# IMPORTANT: SOME KAGGLE DATA SOURCES ARE PRIVATE\n",
        "# RUN THIS CELL IN ORDER TO IMPORT YOUR KAGGLE DATA SOURCES.\n",
        "import kagglehub\n",
        "kagglehub.login()\n"
      ]
    },
    {
      "cell_type": "code",
      "execution_count": 56,
      "metadata": {
        "colab": {
          "base_uri": "https://localhost:8080/",
          "height": 92
        },
        "id": "djsih4HEL4gY",
        "outputId": "d195d3ee-346b-409e-824c-6252bdb1b2b5"
      },
      "outputs": [
        {
          "data": {
            "text/html": [
              "\n",
              "     <input type=\"file\" id=\"files-2b87f91c-8cc0-424e-a7ed-5e34ae417f4e\" name=\"files[]\" multiple disabled\n",
              "        style=\"border:none\" />\n",
              "     <output id=\"result-2b87f91c-8cc0-424e-a7ed-5e34ae417f4e\">\n",
              "      Upload widget is only available when the cell has been executed in the\n",
              "      current browser session. Please rerun this cell to enable.\n",
              "      </output>\n",
              "      <script>// Copyright 2017 Google LLC\n",
              "//\n",
              "// Licensed under the Apache License, Version 2.0 (the \"License\");\n",
              "// you may not use this file except in compliance with the License.\n",
              "// You may obtain a copy of the License at\n",
              "//\n",
              "//      http://www.apache.org/licenses/LICENSE-2.0\n",
              "//\n",
              "// Unless required by applicable law or agreed to in writing, software\n",
              "// distributed under the License is distributed on an \"AS IS\" BASIS,\n",
              "// WITHOUT WARRANTIES OR CONDITIONS OF ANY KIND, either express or implied.\n",
              "// See the License for the specific language governing permissions and\n",
              "// limitations under the License.\n",
              "\n",
              "/**\n",
              " * @fileoverview Helpers for google.colab Python module.\n",
              " */\n",
              "(function(scope) {\n",
              "function span(text, styleAttributes = {}) {\n",
              "  const element = document.createElement('span');\n",
              "  element.textContent = text;\n",
              "  for (const key of Object.keys(styleAttributes)) {\n",
              "    element.style[key] = styleAttributes[key];\n",
              "  }\n",
              "  return element;\n",
              "}\n",
              "\n",
              "// Max number of bytes which will be uploaded at a time.\n",
              "const MAX_PAYLOAD_SIZE = 100 * 1024;\n",
              "\n",
              "function _uploadFiles(inputId, outputId) {\n",
              "  const steps = uploadFilesStep(inputId, outputId);\n",
              "  const outputElement = document.getElementById(outputId);\n",
              "  // Cache steps on the outputElement to make it available for the next call\n",
              "  // to uploadFilesContinue from Python.\n",
              "  outputElement.steps = steps;\n",
              "\n",
              "  return _uploadFilesContinue(outputId);\n",
              "}\n",
              "\n",
              "// This is roughly an async generator (not supported in the browser yet),\n",
              "// where there are multiple asynchronous steps and the Python side is going\n",
              "// to poll for completion of each step.\n",
              "// This uses a Promise to block the python side on completion of each step,\n",
              "// then passes the result of the previous step as the input to the next step.\n",
              "function _uploadFilesContinue(outputId) {\n",
              "  const outputElement = document.getElementById(outputId);\n",
              "  const steps = outputElement.steps;\n",
              "\n",
              "  const next = steps.next(outputElement.lastPromiseValue);\n",
              "  return Promise.resolve(next.value.promise).then((value) => {\n",
              "    // Cache the last promise value to make it available to the next\n",
              "    // step of the generator.\n",
              "    outputElement.lastPromiseValue = value;\n",
              "    return next.value.response;\n",
              "  });\n",
              "}\n",
              "\n",
              "/**\n",
              " * Generator function which is called between each async step of the upload\n",
              " * process.\n",
              " * @param {string} inputId Element ID of the input file picker element.\n",
              " * @param {string} outputId Element ID of the output display.\n",
              " * @return {!Iterable<!Object>} Iterable of next steps.\n",
              " */\n",
              "function* uploadFilesStep(inputId, outputId) {\n",
              "  const inputElement = document.getElementById(inputId);\n",
              "  inputElement.disabled = false;\n",
              "\n",
              "  const outputElement = document.getElementById(outputId);\n",
              "  outputElement.innerHTML = '';\n",
              "\n",
              "  const pickedPromise = new Promise((resolve) => {\n",
              "    inputElement.addEventListener('change', (e) => {\n",
              "      resolve(e.target.files);\n",
              "    });\n",
              "  });\n",
              "\n",
              "  const cancel = document.createElement('button');\n",
              "  inputElement.parentElement.appendChild(cancel);\n",
              "  cancel.textContent = 'Cancel upload';\n",
              "  const cancelPromise = new Promise((resolve) => {\n",
              "    cancel.onclick = () => {\n",
              "      resolve(null);\n",
              "    };\n",
              "  });\n",
              "\n",
              "  // Wait for the user to pick the files.\n",
              "  const files = yield {\n",
              "    promise: Promise.race([pickedPromise, cancelPromise]),\n",
              "    response: {\n",
              "      action: 'starting',\n",
              "    }\n",
              "  };\n",
              "\n",
              "  cancel.remove();\n",
              "\n",
              "  // Disable the input element since further picks are not allowed.\n",
              "  inputElement.disabled = true;\n",
              "\n",
              "  if (!files) {\n",
              "    return {\n",
              "      response: {\n",
              "        action: 'complete',\n",
              "      }\n",
              "    };\n",
              "  }\n",
              "\n",
              "  for (const file of files) {\n",
              "    const li = document.createElement('li');\n",
              "    li.append(span(file.name, {fontWeight: 'bold'}));\n",
              "    li.append(span(\n",
              "        `(${file.type || 'n/a'}) - ${file.size} bytes, ` +\n",
              "        `last modified: ${\n",
              "            file.lastModifiedDate ? file.lastModifiedDate.toLocaleDateString() :\n",
              "                                    'n/a'} - `));\n",
              "    const percent = span('0% done');\n",
              "    li.appendChild(percent);\n",
              "\n",
              "    outputElement.appendChild(li);\n",
              "\n",
              "    const fileDataPromise = new Promise((resolve) => {\n",
              "      const reader = new FileReader();\n",
              "      reader.onload = (e) => {\n",
              "        resolve(e.target.result);\n",
              "      };\n",
              "      reader.readAsArrayBuffer(file);\n",
              "    });\n",
              "    // Wait for the data to be ready.\n",
              "    let fileData = yield {\n",
              "      promise: fileDataPromise,\n",
              "      response: {\n",
              "        action: 'continue',\n",
              "      }\n",
              "    };\n",
              "\n",
              "    // Use a chunked sending to avoid message size limits. See b/62115660.\n",
              "    let position = 0;\n",
              "    do {\n",
              "      const length = Math.min(fileData.byteLength - position, MAX_PAYLOAD_SIZE);\n",
              "      const chunk = new Uint8Array(fileData, position, length);\n",
              "      position += length;\n",
              "\n",
              "      const base64 = btoa(String.fromCharCode.apply(null, chunk));\n",
              "      yield {\n",
              "        response: {\n",
              "          action: 'append',\n",
              "          file: file.name,\n",
              "          data: base64,\n",
              "        },\n",
              "      };\n",
              "\n",
              "      let percentDone = fileData.byteLength === 0 ?\n",
              "          100 :\n",
              "          Math.round((position / fileData.byteLength) * 100);\n",
              "      percent.textContent = `${percentDone}% done`;\n",
              "\n",
              "    } while (position < fileData.byteLength);\n",
              "  }\n",
              "\n",
              "  // All done.\n",
              "  yield {\n",
              "    response: {\n",
              "      action: 'complete',\n",
              "    }\n",
              "  };\n",
              "}\n",
              "\n",
              "scope.google = scope.google || {};\n",
              "scope.google.colab = scope.google.colab || {};\n",
              "scope.google.colab._files = {\n",
              "  _uploadFiles,\n",
              "  _uploadFilesContinue,\n",
              "};\n",
              "})(self);\n",
              "</script> "
            ],
            "text/plain": [
              "<IPython.core.display.HTML object>"
            ]
          },
          "metadata": {},
          "output_type": "display_data"
        },
        {
          "name": "stdout",
          "output_type": "stream",
          "text": [
            "Saving kaggle (1).json to kaggle (1) (1).json\n"
          ]
        },
        {
          "data": {
            "text/plain": [
              "{'kaggle (1) (1).json': b'{\"username\":\"ayoubdammak\",\"key\":\"f577957f3391f727259f0e1278eec258\"}'}"
            ]
          },
          "execution_count": 56,
          "metadata": {},
          "output_type": "execute_result"
        }
      ],
      "source": [
        "from google.colab import files\n",
        "files.upload()  # Upload the kaggle.json file"
      ]
    },
    {
      "cell_type": "code",
      "execution_count": 57,
      "metadata": {
        "colab": {
          "base_uri": "https://localhost:8080/"
        },
        "id": "Y-XzX5A6L4XP",
        "outputId": "06f52efe-ea47-4e52-8a8b-df8dd528a7ff"
      },
      "outputs": [
        {
          "name": "stdout",
          "output_type": "stream",
          "text": [
            "mv: cannot stat 'kaggle.json': No such file or directory\n",
            "chmod: cannot access '/root/.kaggle/kaggle.json': No such file or directory\n"
          ]
        }
      ],
      "source": [
        "!mkdir -p ~/.kaggle\n",
        "!mv kaggle.json ~/.kaggle/\n",
        "!chmod 600 ~/.kaggle/kaggle.json"
      ]
    },
    {
      "cell_type": "code",
      "execution_count": 58,
      "metadata": {
        "colab": {
          "base_uri": "https://localhost:8080/"
        },
        "id": "tAjZbamQL4HG",
        "outputId": "daaf74e2-6fce-481f-b107-9065db868e51"
      },
      "outputs": [
        {
          "name": "stdout",
          "output_type": "stream",
          "text": [
            "Dataset URL: https://www.kaggle.com/datasets/emmarex/plantdisease\n",
            "License(s): unknown\n",
            "plantdisease.zip: Skipping, found more recently modified local copy (use --force to force download)\n",
            "Archive:  plantdisease.zip\n",
            "replace plantdisease/PlantVillage/Pepper__bell___Bacterial_spot/0022d6b7-d47c-4ee2-ae9a-392a53f48647___JR_B.Spot 8964.JPG? [y]es, [n]o, [A]ll, [N]one, [r]ename: "
          ]
        }
      ],
      "source": [
        "!kaggle datasets download -d emmarex/plantdisease\n",
        "!unzip plantdisease.zip -d plantdisease"
      ]
    },
    {
      "cell_type": "code",
      "execution_count": 60,
      "metadata": {
        "colab": {
          "base_uri": "https://localhost:8080/"
        },
        "id": "9kZWgPd_L-bG",
        "outputId": "d8d20e0c-5fe9-46d8-d17c-1cd6fe38bafd"
      },
      "outputs": [
        {
          "name": "stdout",
          "output_type": "stream",
          "text": [
            "Traceback (most recent call last):\n",
            "  File \"/usr/local/bin/kaggle\", line 5, in <module>\n",
            "    from kaggle.cli import main\n",
            "  File \"/usr/local/lib/python3.10/dist-packages/kaggle/__init__.py\", line 7, in <module>\n",
            "    api.authenticate()\n",
            "  File \"/usr/local/lib/python3.10/dist-packages/kaggle/api/kaggle_api_extended.py\", line 407, in authenticate\n",
            "    raise IOError('Could not find {}. Make sure it\\'s located in'\n",
            "OSError: Could not find kaggle.json. Make sure it's located in /root/.kaggle. Or use the environment method. See setup instructions at https://github.com/Kaggle/kaggle-api/\n"
          ]
        }
      ],
      "source": [
        "!kaggle models download -m ayoubdammak/mobilenet/Keras/default/1"
      ]
    },
    {
      "cell_type": "markdown",
      "metadata": {
        "id": "mmD_Hqz4L3UA"
      },
      "source": [
        "# **Importation des bibliothèques**"
      ]
    },
    {
      "cell_type": "code",
      "execution_count": 61,
      "metadata": {
        "execution": {
          "iopub.execute_input": "2024-12-16T11:07:03.443165Z",
          "iopub.status.busy": "2024-12-16T11:07:03.44286Z",
          "iopub.status.idle": "2024-12-16T11:07:18.453668Z",
          "shell.execute_reply": "2024-12-16T11:07:18.452257Z",
          "shell.execute_reply.started": "2024-12-16T11:07:03.443132Z"
        },
        "id": "zJbV9GmRL3UB",
        "trusted": true
      },
      "outputs": [],
      "source": [
        "import tensorflow as tf\n",
        "from tensorflow.keras.preprocessing.image import ImageDataGenerator\n",
        "from tensorflow.keras.models import Sequential\n",
        "from tensorflow.keras.layers import Dense, GlobalAveragePooling2D, Dropout\n",
        "from tensorflow.keras.applications import MobileNetV2\n",
        "from tensorflow.keras.optimizers import Adam\n",
        "import matplotlib.pyplot as plt\n",
        "import numpy as np\n",
        "import os\n",
        "import kagglehub\n",
        "import shutil\n",
        "from sklearn.model_selection import train_test_split"
      ]
    },
    {
      "cell_type": "code",
      "execution_count": 66,
      "metadata": {
        "execution": {
          "iopub.execute_input": "2024-12-16T11:07:18.456322Z",
          "iopub.status.busy": "2024-12-16T11:07:18.455741Z",
          "iopub.status.idle": "2024-12-16T11:07:18.461953Z",
          "shell.execute_reply": "2024-12-16T11:07:18.459933Z",
          "shell.execute_reply.started": "2024-12-16T11:07:18.456287Z"
        },
        "id": "rJTaVNuuL3UB",
        "trusted": true
      },
      "outputs": [],
      "source": [
        "# Download latest version\n",
        "base_path = '/content/plantdisease/PlantVillage'"
      ]
    },
    {
      "cell_type": "markdown",
      "metadata": {
        "id": "vGpfpglfi1TE"
      },
      "source": [
        "![Capture d'écran 2024-12-16 202400.png](data:image/png;base64,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)"
      ]
    },
    {
      "cell_type": "code",
      "execution_count": 67,
      "metadata": {
        "execution": {
          "iopub.execute_input": "2024-12-16T11:07:18.47382Z",
          "iopub.status.busy": "2024-12-16T11:07:18.473295Z",
          "iopub.status.idle": "2024-12-16T11:07:18.496625Z",
          "shell.execute_reply": "2024-12-16T11:07:18.495435Z",
          "shell.execute_reply.started": "2024-12-16T11:07:18.473769Z"
        },
        "id": "grMskHJNL3UB",
        "trusted": true
      },
      "outputs": [],
      "source": [
        "# Chemins pour train, valid et test\n",
        "train_dir = '/kaggle/working/train'\n",
        "val_dir = '/kaggle/working/valid'\n",
        "test_dir = '/kaggle/working/test'"
      ]
    },
    {
      "cell_type": "code",
      "execution_count": 68,
      "metadata": {
        "execution": {
          "iopub.execute_input": "2024-12-16T11:07:18.498352Z",
          "iopub.status.busy": "2024-12-16T11:07:18.497961Z",
          "iopub.status.idle": "2024-12-16T11:07:18.511344Z",
          "shell.execute_reply": "2024-12-16T11:07:18.510218Z",
          "shell.execute_reply.started": "2024-12-16T11:07:18.498296Z"
        },
        "id": "_rwVoLSHL3UB",
        "trusted": true
      },
      "outputs": [],
      "source": [
        "# Création des dossiers\n",
        "os.makedirs(train_dir, exist_ok=True)\n",
        "os.makedirs(val_dir, exist_ok=True)\n",
        "os.makedirs(test_dir, exist_ok=True)"
      ]
    },
    {
      "cell_type": "code",
      "execution_count": 69,
      "metadata": {
        "_cell_guid": "b1076dfc-b9ad-4769-8c92-a6c4dae69d19",
        "_uuid": "8f2839f25d086af736a60e9eeb907d3b93b6e0e5",
        "execution": {
          "iopub.execute_input": "2024-12-16T11:07:18.512848Z",
          "iopub.status.busy": "2024-12-16T11:07:18.512519Z",
          "iopub.status.idle": "2024-12-16T11:10:05.013956Z",
          "shell.execute_reply": "2024-12-16T11:10:05.012727Z",
          "shell.execute_reply.started": "2024-12-16T11:07:18.512816Z"
        },
        "id": "vsxE4ayAL3UC",
        "trusted": true
      },
      "outputs": [],
      "source": [
        "# Parcourir chaque classe\n",
        "for class_name in os.listdir(base_path):\n",
        "    class_path = os.path.join(base_path, class_name)\n",
        "    if os.path.isdir(class_path):\n",
        "        # Lister les images dans la classe\n",
        "        images = os.listdir(class_path)\n",
        "\n",
        "        # Diviser les données en train, valid, test\n",
        "        train_images, temp_images = train_test_split(images, test_size=0.2, random_state=42)\n",
        "        val_images, test_images = train_test_split(temp_images, test_size=0.5, random_state=42)\n",
        "\n",
        "        # Créer les sous-dossiers pour chaque classe\n",
        "        os.makedirs(os.path.join(train_dir, class_name), exist_ok=True)\n",
        "        os.makedirs(os.path.join(val_dir, class_name), exist_ok=True)\n",
        "        os.makedirs(os.path.join(test_dir, class_name), exist_ok=True)\n",
        "\n",
        "        # Copier les images dans les dossiers correspondants\n",
        "        for img in train_images:\n",
        "            shutil.copy(os.path.join(class_path, img), os.path.join(train_dir, class_name))\n",
        "\n",
        "        for img in val_images:\n",
        "            shutil.copy(os.path.join(class_path, img), os.path.join(val_dir, class_name))\n",
        "\n",
        "        for img in test_images:\n",
        "            shutil.copy(os.path.join(class_path, img), os.path.join(test_dir, class_name))"
      ]
    },
    {
      "cell_type": "markdown",
      "metadata": {
        "id": "sSjRczm7L3UC"
      },
      "source": [
        "# **Prétraitement des données**"
      ]
    },
    {
      "cell_type": "markdown",
      "metadata": {
        "id": "jkkII7VUL3UC"
      },
      "source": [
        "**Génération de données**"
      ]
    },
    {
      "cell_type": "code",
      "execution_count": 70,
      "metadata": {
        "execution": {
          "iopub.execute_input": "2024-12-16T11:10:05.015908Z",
          "iopub.status.busy": "2024-12-16T11:10:05.015582Z",
          "iopub.status.idle": "2024-12-16T11:10:05.021746Z",
          "shell.execute_reply": "2024-12-16T11:10:05.020361Z",
          "shell.execute_reply.started": "2024-12-16T11:10:05.015876Z"
        },
        "id": "KxxhL1qWL3UC",
        "trusted": true
      },
      "outputs": [],
      "source": [
        "# Générateurs de données\n",
        "train_datagen = ImageDataGenerator(\n",
        "    rescale=1./255,\n",
        "    rotation_range=20,\n",
        "    width_shift_range=0.2,\n",
        "    height_shift_range=0.2,\n",
        "    zoom_range=0.2,\n",
        "    horizontal_flip=True\n",
        ")\n",
        "\n",
        "val_datagen = ImageDataGenerator(rescale=1./255)\n",
        "test_datagen = ImageDataGenerator(rescale=1./255)"
      ]
    },
    {
      "cell_type": "markdown",
      "metadata": {
        "id": "EDe8oXPRL3UC"
      },
      "source": [
        "**Chargement des images**"
      ]
    },
    {
      "cell_type": "code",
      "execution_count": 71,
      "metadata": {
        "colab": {
          "base_uri": "https://localhost:8080/"
        },
        "execution": {
          "iopub.execute_input": "2024-12-16T11:10:05.023604Z",
          "iopub.status.busy": "2024-12-16T11:10:05.023139Z",
          "iopub.status.idle": "2024-12-16T11:10:05.538626Z",
          "shell.execute_reply": "2024-12-16T11:10:05.537626Z",
          "shell.execute_reply.started": "2024-12-16T11:10:05.023556Z"
        },
        "id": "Og48yCfJL3UC",
        "outputId": "a9ac4c3d-f43e-48e5-ab1b-cd6dca968612",
        "trusted": true
      },
      "outputs": [
        {
          "name": "stdout",
          "output_type": "stream",
          "text": [
            "Found 16504 images belonging to 16 classes.\n",
            "Found 2064 images belonging to 16 classes.\n",
            "Found 2070 images belonging to 16 classes.\n"
          ]
        }
      ],
      "source": [
        "# Charger les images\n",
        "train_data = train_datagen.flow_from_directory(\n",
        "    train_dir,\n",
        "    target_size=(224, 224),\n",
        "    batch_size=32,\n",
        "    class_mode='categorical'\n",
        ")\n",
        "\n",
        "val_data = val_datagen.flow_from_directory(\n",
        "    val_dir,\n",
        "    target_size=(224, 224),\n",
        "    batch_size=32,\n",
        "    class_mode='categorical'\n",
        ")\n",
        "\n",
        "test_data = test_datagen.flow_from_directory(\n",
        "    test_dir,\n",
        "    target_size=(224, 224),\n",
        "    batch_size=32,\n",
        "    class_mode='categorical'\n",
        ")"
      ]
    },
    {
      "cell_type": "markdown",
      "metadata": {
        "id": "GYtdSF_vL3UD"
      },
      "source": [
        "**Chargement de MobileNetV2**"
      ]
    },
    {
      "cell_type": "markdown",
      "metadata": {
        "id": "DPXX39fliuat"
      },
      "source": [
        "![Capture d'écran 2024-12-16 200905.png](data:image/png;base64,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)"
      ]
    },
    {
      "cell_type": "code",
      "execution_count": 75,
      "metadata": {
        "execution": {
          "iopub.execute_input": "2024-12-16T11:10:05.540358Z",
          "iopub.status.busy": "2024-12-16T11:10:05.539941Z",
          "iopub.status.idle": "2024-12-16T11:10:07.277443Z",
          "shell.execute_reply": "2024-12-16T11:10:07.276284Z",
          "shell.execute_reply.started": "2024-12-16T11:10:05.540311Z"
        },
        "id": "7jXhUo_KL3UD",
        "trusted": true
      },
      "outputs": [],
      "source": [
        "# Charger MobileNetV2\n",
        "\n",
        "base_model = MobileNetV2(weights=\"imagenet\", include_top=False, input_shape=(224, 224, 3))"
      ]
    },
    {
      "cell_type": "code",
      "execution_count": 76,
      "metadata": {
        "execution": {
          "iopub.execute_input": "2024-12-16T11:10:07.280094Z",
          "iopub.status.busy": "2024-12-16T11:10:07.279308Z",
          "iopub.status.idle": "2024-12-16T11:10:07.288411Z",
          "shell.execute_reply": "2024-12-16T11:10:07.287147Z",
          "shell.execute_reply.started": "2024-12-16T11:10:07.280042Z"
        },
        "id": "6Fk4n8J9L3UD",
        "trusted": true
      },
      "outputs": [],
      "source": [
        "# Geler les premières couches\n",
        "base_model.trainable = False"
      ]
    },
    {
      "cell_type": "markdown",
      "metadata": {
        "id": "fnjErOz7L3UD"
      },
      "source": [
        "# **Ajout des couches personnalisées**"
      ]
    },
    {
      "cell_type": "code",
      "execution_count": 77,
      "metadata": {
        "execution": {
          "iopub.execute_input": "2024-12-16T11:10:07.290228Z",
          "iopub.status.busy": "2024-12-16T11:10:07.289889Z",
          "iopub.status.idle": "2024-12-16T11:10:07.309653Z",
          "shell.execute_reply": "2024-12-16T11:10:07.308454Z",
          "shell.execute_reply.started": "2024-12-16T11:10:07.290194Z"
        },
        "id": "VfOXvk7QL3UD",
        "trusted": true
      },
      "outputs": [],
      "source": [
        "# Ajouter des couches personnalisées\n",
        "model = Sequential([\n",
        "    base_model,\n",
        "    GlobalAveragePooling2D(),\n",
        "    Dense(256, activation='relu'),\n",
        "    Dropout(0.5),\n",
        "    Dense(train_data.num_classes, activation='softmax')  # Adapté au nombre de classes\n",
        "])"
      ]
    },
    {
      "cell_type": "markdown",
      "metadata": {
        "id": "79LehZm4L3UD"
      },
      "source": [
        "# **Compilation du modèle**"
      ]
    },
    {
      "cell_type": "code",
      "execution_count": 78,
      "metadata": {
        "execution": {
          "iopub.execute_input": "2024-12-16T11:10:07.311814Z",
          "iopub.status.busy": "2024-12-16T11:10:07.311386Z",
          "iopub.status.idle": "2024-12-16T11:10:07.33095Z",
          "shell.execute_reply": "2024-12-16T11:10:07.329641Z",
          "shell.execute_reply.started": "2024-12-16T11:10:07.31178Z"
        },
        "id": "5sYbG1XzL3UD",
        "trusted": true
      },
      "outputs": [],
      "source": [
        "# Compiler le modèle\n",
        "model.compile(\n",
        "    optimizer=Adam(learning_rate=0.001),\n",
        "    loss='categorical_crossentropy',\n",
        "    metrics=['accuracy']\n",
        ")"
      ]
    },
    {
      "cell_type": "markdown",
      "metadata": {
        "id": "rJjYfK3rL3UD"
      },
      "source": [
        "# **Entraînement du modèle**"
      ]
    },
    {
      "cell_type": "code",
      "execution_count": 79,
      "metadata": {
        "colab": {
          "base_uri": "https://localhost:8080/"
        },
        "execution": {
          "iopub.execute_input": "2024-12-16T12:02:11.207257Z",
          "iopub.status.busy": "2024-12-16T12:02:11.206884Z"
        },
        "id": "xgTKej9pL3UD",
        "outputId": "fbd7cbc5-faee-446d-a173-93527b5b0457",
        "trusted": true
      },
      "outputs": [
        {
          "name": "stdout",
          "output_type": "stream",
          "text": [
            "Epoch 1/10\n"
          ]
        },
        {
          "name": "stderr",
          "output_type": "stream",
          "text": [
            "/usr/local/lib/python3.10/dist-packages/keras/src/trainers/data_adapters/py_dataset_adapter.py:122: UserWarning: Your `PyDataset` class should call `super().__init__(**kwargs)` in its constructor. `**kwargs` can include `workers`, `use_multiprocessing`, `max_queue_size`. Do not pass these arguments to `fit()`, as they will be ignored.\n",
            "  self._warn_if_super_not_called()\n"
          ]
        },
        {
          "name": "stdout",
          "output_type": "stream",
          "text": [
            "\u001b[1m515/515\u001b[0m \u001b[32m━━━━━━━━━━━━━━━━━━━━\u001b[0m\u001b[37m\u001b[0m \u001b[1m219s\u001b[0m 397ms/step - accuracy: 0.5819 - loss: 1.3400 - val_accuracy: 0.8442 - val_loss: 0.4772\n",
            "Epoch 2/10\n",
            "\u001b[1m  1/515\u001b[0m \u001b[37m━━━━━━━━━━━━━━━━━━━━\u001b[0m \u001b[1m16s\u001b[0m 31ms/step - accuracy: 0.8125 - loss: 0.6717"
          ]
        },
        {
          "name": "stderr",
          "output_type": "stream",
          "text": [
            "/usr/lib/python3.10/contextlib.py:153: UserWarning: Your input ran out of data; interrupting training. Make sure that your dataset or generator can generate at least `steps_per_epoch * epochs` batches. You may need to use the `.repeat()` function when building your dataset.\n",
            "  self.gen.throw(typ, value, traceback)\n"
          ]
        },
        {
          "name": "stdout",
          "output_type": "stream",
          "text": [
            "\b\b\b\b\b\b\b\b\b\b\b\b\b\b\b\b\b\b\b\b\b\b\b\b\b\b\b\b\b\b\b\b\b\b\b\b\b\b\b\b\b\b\b\b\b\b\b\b\b\b\b\b\b\b\b\b\b\b\b\b\b\b\b\b\b\b\b\b\b\b\b\b\b\b\b\b\r\u001b[1m515/515\u001b[0m \u001b[32m━━━━━━━━━━━━━━━━━━━━\u001b[0m\u001b[37m\u001b[0m \u001b[1m3s\u001b[0m 6ms/step - accuracy: 0.8125 - loss: 0.6717 - val_accuracy: 0.8125 - val_loss: 0.4811\n",
            "Epoch 3/10\n",
            "\u001b[1m515/515\u001b[0m \u001b[32m━━━━━━━━━━━━━━━━━━━━\u001b[0m\u001b[37m\u001b[0m \u001b[1m200s\u001b[0m 383ms/step - accuracy: 0.7892 - loss: 0.6398 - val_accuracy: 0.8521 - val_loss: 0.4467\n",
            "Epoch 4/10\n",
            "\u001b[1m515/515\u001b[0m \u001b[32m━━━━━━━━━━━━━━━━━━━━\u001b[0m\u001b[37m\u001b[0m \u001b[1m0s\u001b[0m 63us/step - accuracy: 0.8125 - loss: 0.5040 - val_accuracy: 0.8125 - val_loss: 0.4391\n",
            "Epoch 5/10\n",
            "\u001b[1m515/515\u001b[0m \u001b[32m━━━━━━━━━━━━━━━━━━━━\u001b[0m\u001b[37m\u001b[0m \u001b[1m200s\u001b[0m 380ms/step - accuracy: 0.8139 - loss: 0.5510 - val_accuracy: 0.8618 - val_loss: 0.4064\n",
            "Epoch 6/10\n",
            "\u001b[1m515/515\u001b[0m \u001b[32m━━━━━━━━━━━━━━━━━━━━\u001b[0m\u001b[37m\u001b[0m \u001b[1m0s\u001b[0m 68us/step - accuracy: 0.7812 - loss: 0.6421 - val_accuracy: 1.0000 - val_loss: 0.1404\n",
            "Epoch 7/10\n",
            "\u001b[1m515/515\u001b[0m \u001b[32m━━━━━━━━━━━━━━━━━━━━\u001b[0m\u001b[37m\u001b[0m \u001b[1m200s\u001b[0m 374ms/step - accuracy: 0.8319 - loss: 0.4915 - val_accuracy: 0.8721 - val_loss: 0.3698\n",
            "Epoch 8/10\n",
            "\u001b[1m515/515\u001b[0m \u001b[32m━━━━━━━━━━━━━━━━━━━━\u001b[0m\u001b[37m\u001b[0m \u001b[1m0s\u001b[0m 69us/step - accuracy: 0.9062 - loss: 0.3780 - val_accuracy: 0.9375 - val_loss: 0.1427\n",
            "Epoch 9/10\n",
            "\u001b[1m515/515\u001b[0m \u001b[32m━━━━━━━━━━━━━━━━━━━━\u001b[0m\u001b[37m\u001b[0m \u001b[1m197s\u001b[0m 377ms/step - accuracy: 0.8427 - loss: 0.4623 - val_accuracy: 0.8750 - val_loss: 0.3558\n",
            "Epoch 10/10\n",
            "\u001b[1m515/515\u001b[0m \u001b[32m━━━━━━━━━━━━━━━━━━━━\u001b[0m\u001b[37m\u001b[0m \u001b[1m0s\u001b[0m 62us/step - accuracy: 0.8438 - loss: 0.4222 - val_accuracy: 0.9375 - val_loss: 0.3041\n"
          ]
        }
      ],
      "source": [
        "# Entraîner le modèle\n",
        "history = model.fit(\n",
        "    train_data,\n",
        "    validation_data=val_data,\n",
        "    epochs=10,\n",
        "    steps_per_epoch=train_data.samples // train_data.batch_size,\n",
        "    validation_steps=val_data.samples // val_data.batch_size\n",
        ")"
      ]
    },
    {
      "cell_type": "markdown",
      "metadata": {
        "id": "WVNH0S8LL3UE"
      },
      "source": [
        "# **Traçage des courbes d'accuracy**"
      ]
    },
    {
      "cell_type": "code",
      "execution_count": 80,
      "metadata": {
        "colab": {
          "base_uri": "https://localhost:8080/",
          "height": 452
        },
        "id": "D1O8a_vQL3UE",
        "outputId": "b915adec-7685-4ca7-8c97-f18ccb992a6a",
        "trusted": true
      },
      "outputs": [
        {
          "data": {
            "image/png": "[encoded data removed]",
            "text/plain": [
              "<Figure size 640x480 with 1 Axes>"
            ]
          },
          "metadata": {},
          "output_type": "display_data"
        }
      ],
      "source": [
        "# Visualiser les courbes d'accuracy\n",
        "plt.plot(history.history['accuracy'], label='Train Accuracy')\n",
        "plt.plot(history.history['val_accuracy'], label='Validation Accuracy')\n",
        "plt.title('Accuracy')\n",
        "plt.legend()\n",
        "plt.show()"
      ]
    },
    {
      "cell_type": "markdown",
      "metadata": {
        "id": "RS3PnEAVL3UE"
      },
      "source": [
        "# **Traçage des courbes de perte**"
      ]
    },
    {
      "cell_type": "code",
      "execution_count": 81,
      "metadata": {
        "colab": {
          "base_uri": "https://localhost:8080/",
          "height": 452
        },
        "id": "kov1r_fvL3UE",
        "outputId": "a4534f0d-6376-4ea8-ef36-403d6c4889ea",
        "trusted": true
      },
      "outputs": [
        {
          "data": {
            "image/png": "[encoded data removed]",
            "text/plain": [
              "<Figure size 640x480 with 1 Axes>"
            ]
          },
          "metadata": {},
          "output_type": "display_data"
        }
      ],
      "source": [
        "# Visualiser les courbes de perte\n",
        "plt.plot(history.history['loss'], label='Train Loss')\n",
        "plt.plot(history.history['val_loss'], label='Validation Loss')\n",
        "plt.title('Loss')\n",
        "plt.legend()\n",
        "plt.show()"
      ]
    },
    {
      "cell_type": "markdown",
      "metadata": {
        "id": "7aizOMb-L3UE"
      },
      "source": [
        "# **Fine Tuning**"
      ]
    },
    {
      "cell_type": "code",
      "execution_count": 82,
      "metadata": {
        "colab": {
          "base_uri": "https://localhost:8080/"
        },
        "execution": {
          "iopub.execute_input": "2024-12-16T09:33:22.14911Z",
          "iopub.status.busy": "2024-12-16T09:33:22.148406Z",
          "iopub.status.idle": "2024-12-16T09:33:22.442845Z",
          "shell.execute_reply": "2024-12-16T09:33:22.441402Z",
          "shell.execute_reply.started": "2024-12-16T09:33:22.149032Z"
        },
        "id": "VwCpykMML3UE",
        "outputId": "b8f1bcfa-3a63-4d8c-e1d4-f921f523c1aa",
        "trusted": true
      },
      "outputs": [
        {
          "name": "stdout",
          "output_type": "stream",
          "text": [
            "Epoch 1/5\n",
            "\u001b[1m515/515\u001b[0m \u001b[32m━━━━━━━━━━━━━━━━━━━━\u001b[0m\u001b[37m\u001b[0m \u001b[1m235s\u001b[0m 411ms/step - accuracy: 0.6073 - loss: 1.4091 - val_accuracy: 0.8740 - val_loss: 0.3760\n",
            "Epoch 2/5\n",
            "\u001b[1m515/515\u001b[0m \u001b[32m━━━━━━━━━━━━━━━━━━━━\u001b[0m\u001b[37m\u001b[0m \u001b[1m2s\u001b[0m 4ms/step - accuracy: 0.9062 - loss: 0.3623 - val_accuracy: 0.8125 - val_loss: 0.5557\n",
            "Epoch 3/5\n",
            "\u001b[1m515/515\u001b[0m \u001b[32m━━━━━━━━━━━━━━━━━━━━\u001b[0m\u001b[37m\u001b[0m \u001b[1m238s\u001b[0m 388ms/step - accuracy: 0.8123 - loss: 0.5603 - val_accuracy: 0.8804 - val_loss: 0.3779\n",
            "Epoch 4/5\n",
            "\u001b[1m515/515\u001b[0m \u001b[32m━━━━━━━━━━━━━━━━━━━━\u001b[0m\u001b[37m\u001b[0m \u001b[1m0s\u001b[0m 73us/step - accuracy: 0.8125 - loss: 0.4799 - val_accuracy: 0.8750 - val_loss: 0.1890\n",
            "Epoch 5/5\n",
            "\u001b[1m515/515\u001b[0m \u001b[32m━━━━━━━━━━━━━━━━━━━━\u001b[0m\u001b[37m\u001b[0m \u001b[1m205s\u001b[0m 393ms/step - accuracy: 0.8517 - loss: 0.4437 - val_accuracy: 0.8940 - val_loss: 0.3204\n"
          ]
        }
      ],
      "source": [
        "# Débloquer certaines couches pour le fine-tuning\n",
        "base_model.trainable = True\n",
        "for layer in base_model.layers[:100]:  # Geler les premières couches\n",
        "    layer.trainable = False\n",
        "\n",
        "# Recompiler avec un taux d'apprentissage plus faible\n",
        "model.compile(\n",
        "    optimizer=Adam(learning_rate=1e-5),\n",
        "    loss='categorical_crossentropy',\n",
        "    metrics=['accuracy']\n",
        ")\n",
        "\n",
        "# Réentraînement avec fine-tuning\n",
        "history_finetune = model.fit(\n",
        "    train_data,\n",
        "    validation_data=val_data,\n",
        "    epochs=5,\n",
        "    steps_per_epoch=train_data.samples // train_data.batch_size,\n",
        "    validation_steps=val_data.samples // val_data.batch_size\n",
        ")"
      ]
    },
    {
      "cell_type": "markdown",
      "metadata": {
        "id": "emJXOjB3L3UE"
      },
      "source": [
        "# **Evaluation du modèle**"
      ]
    },
    {
      "cell_type": "code",
      "execution_count": 83,
      "metadata": {
        "colab": {
          "base_uri": "https://localhost:8080/"
        },
        "id": "zlRhG1yHL3UE",
        "outputId": "6b67eee5-303f-4ae0-efc1-15e4c82e8c7a",
        "trusted": true
      },
      "outputs": [
        {
          "name": "stdout",
          "output_type": "stream",
          "text": [
            "\u001b[1m65/65\u001b[0m \u001b[32m━━━━━━━━━━━━━━━━━━━━\u001b[0m\u001b[37m\u001b[0m \u001b[1m8s\u001b[0m 128ms/step - accuracy: 0.8962 - loss: 0.2945\n",
            "Test Accuracy: 0.8932366967201233\n",
            "Test Loss: 0.31946638226509094\n"
          ]
        }
      ],
      "source": [
        "# Évaluer le modèle\n",
        "test_loss, test_acc = model.evaluate(test_data)\n",
        "print(f'Test Accuracy: {test_acc}')\n",
        "print(f'Test Loss: {test_loss}')"
      ]
    },
    {
      "cell_type": "code",
      "execution_count": 86,
      "metadata": {
        "colab": {
          "base_uri": "https://localhost:8080/",
          "height": 452
        },
        "id": "HPjnWrynTNH5",
        "outputId": "5866722f-e21c-4eb8-9f27-9e9286ba7b90"
      },
      "outputs": [
        {
          "data": {
            "image/png": "[encoded data removed]",
            "text/plain": [
              "<Figure size 640x480 with 1 Axes>"
            ]
          },
          "metadata": {},
          "output_type": "display_data"
        }
      ],
      "source": [
        "# Visualiser les courbes d'accuracy\n",
        "plt.plot(history_finetune.history['accuracy'], label='Train Accuracy')\n",
        "plt.plot(history_finetune.history['val_accuracy'], label='Validation Accuracy')\n",
        "plt.title('Accuracy')\n",
        "plt.legend()\n",
        "plt.show()"
      ]
    },
    {
      "cell_type": "code",
      "execution_count": 90,
      "metadata": {
        "colab": {
          "base_uri": "https://localhost:8080/"
        },
        "id": "UQz9M5c0L3UF",
        "outputId": "25a89a4a-5733-4e37-943b-b9c26bdde31c",
        "trusted": true
      },
      "outputs": [
        {
          "name": "stdout",
          "output_type": "stream",
          "text": [
            "\u001b[1m1/1\u001b[0m \u001b[32m━━━━━━━━━━━━━━━━━━━━\u001b[0m\u001b[37m\u001b[0m \u001b[1m0s\u001b[0m 21ms/step\n",
            "Predicted class: Potato___healthy\n"
          ]
        }
      ],
      "source": [
        "from tensorflow.keras.preprocessing import image\n",
        "\n",
        "# Chemin vers une image de test\n",
        "img_path = '/kaggle/working/test/Potato___healthy/22322780-95b4-4b45-b626-26b22965d55e___RS_HL 1880.JPG'\n",
        "\n",
        "# Préparer l'image\n",
        "img = image.load_img(img_path, target_size=(224, 224))\n",
        "img_array = image.img_to_array(img) / 255.0\n",
        "img_array = np.expand_dims(img_array, axis=0)\n",
        "\n",
        "# Faire une prédiction\n",
        "predictions = model.predict(img_array)\n",
        "predicted_class = np.argmax(predictions)\n",
        "class_labels = list(train_data.class_indices.keys())\n",
        "\n",
        "print(f\"Predicted class: {class_labels[predicted_class]}\")"
      ]
    },
    {
      "cell_type": "markdown",
      "metadata": {
        "id": "RLpTMxw9L3UF"
      },
      "source": [
        "# **Préparer le modèle TensorFlow Lite**"
      ]
    },
    {
      "cell_type": "code",
      "execution_count": 91,
      "metadata": {
        "colab": {
          "base_uri": "https://localhost:8080/"
        },
        "id": "sucCGTB3L3UF",
        "outputId": "338058c8-e8a8-46fb-aa05-2b802c3a2e5a",
        "trusted": true
      },
      "outputs": [
        {
          "name": "stdout",
          "output_type": "stream",
          "text": [
            "Saved artifact at '/tmp/tmp3msj5zfd'. The following endpoints are available:\n",
            "\n",
            "* Endpoint 'serve'\n",
            "  args_0 (POSITIONAL_ONLY): TensorSpec(shape=(None, 224, 224, 3), dtype=tf.float32, name='keras_tensor_308')\n",
            "Output Type:\n",
            "  TensorSpec(shape=(None, 16), dtype=tf.float32, name=None)\n",
            "Captures:\n",
            "  135742747294912: TensorSpec(shape=(), dtype=tf.resource, name=None)\n",
            "  135742747625952: TensorSpec(shape=(), dtype=tf.resource, name=None)\n",
            "  135742747626128: TensorSpec(shape=(), dtype=tf.resource, name=None)\n",
            "  135742747626480: TensorSpec(shape=(), dtype=tf.resource, name=None)\n",
            "  135742747625424: TensorSpec(shape=(), dtype=tf.resource, name=None)\n",
            "  135742747632992: TensorSpec(shape=(), dtype=tf.resource, name=None)\n",
            "  135742747631936: TensorSpec(shape=(), dtype=tf.resource, name=None)\n",
            "  135742747634576: TensorSpec(shape=(), dtype=tf.resource, name=None)\n",
            "  135742747624368: TensorSpec(shape=(), dtype=tf.resource, name=None)\n",
            "  135742747632464: TensorSpec(shape=(), dtype=tf.resource, name=None)\n",
            "  135742747637568: TensorSpec(shape=(), dtype=tf.resource, name=None)\n",
            "  135742747690432: TensorSpec(shape=(), dtype=tf.resource, name=None)\n",
            "  135742747689200: TensorSpec(shape=(), dtype=tf.resource, name=None)\n",
            "  135742747638624: TensorSpec(shape=(), dtype=tf.resource, name=None)\n",
            "  135742747689024: TensorSpec(shape=(), dtype=tf.resource, name=None)\n",
            "  135742747287344: TensorSpec(shape=(), dtype=tf.resource, name=None)\n",
            "  135742747696592: TensorSpec(shape=(), dtype=tf.resource, name=None)\n",
            "  135742747697648: TensorSpec(shape=(), dtype=tf.resource, name=None)\n",
            "  135742747693776: TensorSpec(shape=(), dtype=tf.resource, name=None)\n",
            "  135742747696416: TensorSpec(shape=(), dtype=tf.resource, name=None)\n",
            "  135742747705040: TensorSpec(shape=(), dtype=tf.resource, name=None)\n",
            "  135742747701520: TensorSpec(shape=(), dtype=tf.resource, name=None)\n",
            "  135742747701168: TensorSpec(shape=(), dtype=tf.resource, name=None)\n",
            "  135742747702224: TensorSpec(shape=(), dtype=tf.resource, name=None)\n",
            "  135742747703808: TensorSpec(shape=(), dtype=tf.resource, name=None)\n",
            "  135742747700640: TensorSpec(shape=(), dtype=tf.resource, name=None)\n",
            "  135742747762480: TensorSpec(shape=(), dtype=tf.resource, name=None)\n",
            "  135742747763536: TensorSpec(shape=(), dtype=tf.resource, name=None)\n",
            "  135742747759664: TensorSpec(shape=(), dtype=tf.resource, name=None)\n",
            "  135742747762304: TensorSpec(shape=(), dtype=tf.resource, name=None)\n",
            "  135742747628768: TensorSpec(shape=(), dtype=tf.resource, name=None)\n",
            "  135742747767232: TensorSpec(shape=(), dtype=tf.resource, name=None)\n",
            "  135742747769696: TensorSpec(shape=(), dtype=tf.resource, name=None)\n",
            "  135742747765824: TensorSpec(shape=(), dtype=tf.resource, name=None)\n",
            "  135742747768464: TensorSpec(shape=(), dtype=tf.resource, name=None)\n",
            "  135742747766176: TensorSpec(shape=(), dtype=tf.resource, name=None)\n",
            "  135742752919392: TensorSpec(shape=(), dtype=tf.resource, name=None)\n",
            "  135742752922032: TensorSpec(shape=(), dtype=tf.resource, name=None)\n",
            "  135742752917984: TensorSpec(shape=(), dtype=tf.resource, name=None)\n",
            "  135742752919920: TensorSpec(shape=(), dtype=tf.resource, name=None)\n",
            "  135742752928192: TensorSpec(shape=(), dtype=tf.resource, name=None)\n",
            "  135742752927136: TensorSpec(shape=(), dtype=tf.resource, name=None)\n",
            "  135742752929600: TensorSpec(shape=(), dtype=tf.resource, name=None)\n",
            "  135742752916048: TensorSpec(shape=(), dtype=tf.resource, name=None)\n",
            "  135742752928368: TensorSpec(shape=(), dtype=tf.resource, name=None)\n",
            "  135742747700816: TensorSpec(shape=(), dtype=tf.resource, name=None)\n",
            "  135742752985456: TensorSpec(shape=(), dtype=tf.resource, name=None)\n",
            "  135742752985104: TensorSpec(shape=(), dtype=tf.resource, name=None)\n",
            "  135742752982640: TensorSpec(shape=(), dtype=tf.resource, name=None)\n",
            "  135742752985280: TensorSpec(shape=(), dtype=tf.resource, name=None)\n",
            "  135742752993904: TensorSpec(shape=(), dtype=tf.resource, name=None)\n",
            "  135742752992848: TensorSpec(shape=(), dtype=tf.resource, name=None)\n",
            "  135742752995488: TensorSpec(shape=(), dtype=tf.resource, name=None)\n",
            "  135742752982992: TensorSpec(shape=(), dtype=tf.resource, name=None)\n",
            "  135742752993376: TensorSpec(shape=(), dtype=tf.resource, name=None)\n",
            "  135742752989504: TensorSpec(shape=(), dtype=tf.resource, name=None)\n",
            "  135742752838352: TensorSpec(shape=(), dtype=tf.resource, name=None)\n",
            "  135742752839408: TensorSpec(shape=(), dtype=tf.resource, name=None)\n",
            "  135742752835536: TensorSpec(shape=(), dtype=tf.resource, name=None)\n",
            "  135742752838176: TensorSpec(shape=(), dtype=tf.resource, name=None)\n",
            "  135742752916224: TensorSpec(shape=(), dtype=tf.resource, name=None)\n",
            "  135742752843104: TensorSpec(shape=(), dtype=tf.resource, name=None)\n",
            "  135742752845568: TensorSpec(shape=(), dtype=tf.resource, name=None)\n",
            "  135742752841696: TensorSpec(shape=(), dtype=tf.resource, name=None)\n",
            "  135742752844336: TensorSpec(shape=(), dtype=tf.resource, name=None)\n",
            "  135742752848384: TensorSpec(shape=(), dtype=tf.resource, name=None)\n",
            "  135742752539216: TensorSpec(shape=(), dtype=tf.resource, name=None)\n",
            "  135742752538864: TensorSpec(shape=(), dtype=tf.resource, name=None)\n",
            "  135742752847504: TensorSpec(shape=(), dtype=tf.resource, name=None)\n",
            "  135742752540976: TensorSpec(shape=(), dtype=tf.resource, name=None)\n",
            "  135742752847152: TensorSpec(shape=(), dtype=tf.resource, name=None)\n",
            "  135742752547136: TensorSpec(shape=(), dtype=tf.resource, name=None)\n",
            "  135742752549600: TensorSpec(shape=(), dtype=tf.resource, name=None)\n",
            "  135742752545728: TensorSpec(shape=(), dtype=tf.resource, name=None)\n",
            "  135742752548368: TensorSpec(shape=(), dtype=tf.resource, name=None)\n",
            "  135742752541328: TensorSpec(shape=(), dtype=tf.resource, name=None)\n",
            "  135742752605456: TensorSpec(shape=(), dtype=tf.resource, name=None)\n",
            "  135742752605808: TensorSpec(shape=(), dtype=tf.resource, name=None)\n",
            "  135742752553648: TensorSpec(shape=(), dtype=tf.resource, name=None)\n",
            "  135742752604224: TensorSpec(shape=(), dtype=tf.resource, name=None)\n",
            "  135742752551712: TensorSpec(shape=(), dtype=tf.resource, name=None)\n",
            "  135742752611440: TensorSpec(shape=(), dtype=tf.resource, name=None)\n",
            "  135742752614080: TensorSpec(shape=(), dtype=tf.resource, name=None)\n",
            "  135742752610032: TensorSpec(shape=(), dtype=tf.resource, name=None)\n",
            "  135742752611968: TensorSpec(shape=(), dtype=tf.resource, name=None)\n",
            "  135742752620240: TensorSpec(shape=(), dtype=tf.resource, name=None)\n",
            "  135742752610384: TensorSpec(shape=(), dtype=tf.resource, name=None)\n",
            "  135742752615664: TensorSpec(shape=(), dtype=tf.resource, name=None)\n",
            "  135742752617424: TensorSpec(shape=(), dtype=tf.resource, name=None)\n",
            "  135742752703056: TensorSpec(shape=(), dtype=tf.resource, name=None)\n",
            "  135742752847328: TensorSpec(shape=(), dtype=tf.resource, name=None)\n",
            "  135742752710272: TensorSpec(shape=(), dtype=tf.resource, name=None)\n",
            "  135742752711328: TensorSpec(shape=(), dtype=tf.resource, name=None)\n",
            "  135742752707456: TensorSpec(shape=(), dtype=tf.resource, name=None)\n",
            "  135742752710096: TensorSpec(shape=(), dtype=tf.resource, name=None)\n",
            "  135742752715552: TensorSpec(shape=(), dtype=tf.resource, name=None)\n",
            "  135742752715200: TensorSpec(shape=(), dtype=tf.resource, name=None)\n",
            "  135742752714848: TensorSpec(shape=(), dtype=tf.resource, name=None)\n",
            "  135742752716608: TensorSpec(shape=(), dtype=tf.resource, name=None)\n",
            "  135742752801712: TensorSpec(shape=(), dtype=tf.resource, name=None)\n",
            "  135742752810160: TensorSpec(shape=(), dtype=tf.resource, name=None)\n",
            "  135742752813856: TensorSpec(shape=(), dtype=tf.resource, name=None)\n",
            "  135742752812976: TensorSpec(shape=(), dtype=tf.resource, name=None)\n",
            "  135742752814736: TensorSpec(shape=(), dtype=tf.resource, name=None)\n",
            "  135742752816320: TensorSpec(shape=(), dtype=tf.resource, name=None)\n",
            "  135742752813328: TensorSpec(shape=(), dtype=tf.resource, name=None)\n",
            "  135742752347712: TensorSpec(shape=(), dtype=tf.resource, name=None)\n",
            "  135742752348768: TensorSpec(shape=(), dtype=tf.resource, name=None)\n",
            "  135742752344896: TensorSpec(shape=(), dtype=tf.resource, name=None)\n",
            "  135742752347536: TensorSpec(shape=(), dtype=tf.resource, name=None)\n",
            "  135742752354752: TensorSpec(shape=(), dtype=tf.resource, name=None)\n",
            "  135742752353696: TensorSpec(shape=(), dtype=tf.resource, name=None)\n",
            "  135742752356336: TensorSpec(shape=(), dtype=tf.resource, name=None)\n",
            "  135742752345248: TensorSpec(shape=(), dtype=tf.resource, name=None)\n",
            "  135742752354224: TensorSpec(shape=(), dtype=tf.resource, name=None)\n",
            "  135742752350352: TensorSpec(shape=(), dtype=tf.resource, name=None)\n",
            "  135742752035360: TensorSpec(shape=(), dtype=tf.resource, name=None)\n",
            "  135742752035008: TensorSpec(shape=(), dtype=tf.resource, name=None)\n",
            "  135742752032544: TensorSpec(shape=(), dtype=tf.resource, name=None)\n",
            "  135742752035184: TensorSpec(shape=(), dtype=tf.resource, name=None)\n",
            "  135742752814208: TensorSpec(shape=(), dtype=tf.resource, name=None)\n",
            "  135742752041520: TensorSpec(shape=(), dtype=tf.resource, name=None)\n",
            "  135742752043984: TensorSpec(shape=(), dtype=tf.resource, name=None)\n",
            "  135742752040112: TensorSpec(shape=(), dtype=tf.resource, name=None)\n",
            "  135742752042752: TensorSpec(shape=(), dtype=tf.resource, name=None)\n",
            "  135742752046800: TensorSpec(shape=(), dtype=tf.resource, name=None)\n",
            "  135742752081696: TensorSpec(shape=(), dtype=tf.resource, name=None)\n",
            "  135742752083808: TensorSpec(shape=(), dtype=tf.resource, name=None)\n",
            "  135742752079936: TensorSpec(shape=(), dtype=tf.resource, name=None)\n",
            "  135742752083456: TensorSpec(shape=(), dtype=tf.resource, name=None)\n",
            "  135742752045568: TensorSpec(shape=(), dtype=tf.resource, name=None)\n",
            "  135742752089616: TensorSpec(shape=(), dtype=tf.resource, name=None)\n",
            "  135742752092080: TensorSpec(shape=(), dtype=tf.resource, name=None)\n",
            "  135742752088208: TensorSpec(shape=(), dtype=tf.resource, name=None)\n",
            "  135742752090848: TensorSpec(shape=(), dtype=tf.resource, name=None)\n",
            "  135742752080640: TensorSpec(shape=(), dtype=tf.resource, name=None)\n",
            "  135742752164320: TensorSpec(shape=(), dtype=tf.resource, name=None)\n",
            "  135742752162384: TensorSpec(shape=(), dtype=tf.resource, name=None)\n",
            "  135742752162032: TensorSpec(shape=(), dtype=tf.resource, name=None)\n",
            "  135742752164496: TensorSpec(shape=(), dtype=tf.resource, name=None)\n",
            "  135742752171360: TensorSpec(shape=(), dtype=tf.resource, name=None)\n",
            "  135742752170304: TensorSpec(shape=(), dtype=tf.resource, name=None)\n",
            "  135742752172944: TensorSpec(shape=(), dtype=tf.resource, name=None)\n",
            "  135742752163968: TensorSpec(shape=(), dtype=tf.resource, name=None)\n",
            "  135742752170832: TensorSpec(shape=(), dtype=tf.resource, name=None)\n",
            "  135742752175936: TensorSpec(shape=(), dtype=tf.resource, name=None)\n",
            "  135742772708800: TensorSpec(shape=(), dtype=tf.resource, name=None)\n",
            "  135742772707568: TensorSpec(shape=(), dtype=tf.resource, name=None)\n",
            "  135742752176992: TensorSpec(shape=(), dtype=tf.resource, name=None)\n",
            "  135742772707392: TensorSpec(shape=(), dtype=tf.resource, name=None)\n",
            "  135742752045744: TensorSpec(shape=(), dtype=tf.resource, name=None)\n",
            "  135742772716368: TensorSpec(shape=(), dtype=tf.resource, name=None)\n",
            "  135742772717424: TensorSpec(shape=(), dtype=tf.resource, name=None)\n",
            "  135742772713552: TensorSpec(shape=(), dtype=tf.resource, name=None)\n",
            "  135742772716192: TensorSpec(shape=(), dtype=tf.resource, name=None)\n",
            "  135742772723408: TensorSpec(shape=(), dtype=tf.resource, name=None)\n",
            "  135742772719888: TensorSpec(shape=(), dtype=tf.resource, name=None)\n",
            "  135742772719536: TensorSpec(shape=(), dtype=tf.resource, name=None)\n",
            "  135742772720592: TensorSpec(shape=(), dtype=tf.resource, name=None)\n",
            "  135742772722176: TensorSpec(shape=(), dtype=tf.resource, name=None)\n",
            "  135742772719008: TensorSpec(shape=(), dtype=tf.resource, name=None)\n",
            "  135742772223792: TensorSpec(shape=(), dtype=tf.resource, name=None)\n",
            "  135742772224848: TensorSpec(shape=(), dtype=tf.resource, name=None)\n",
            "  135742772220976: TensorSpec(shape=(), dtype=tf.resource, name=None)\n",
            "  135742772223616: TensorSpec(shape=(), dtype=tf.resource, name=None)\n",
            "  135742752167136: TensorSpec(shape=(), dtype=tf.resource, name=None)\n",
            "  135742772228544: TensorSpec(shape=(), dtype=tf.resource, name=None)\n",
            "  135742772231008: TensorSpec(shape=(), dtype=tf.resource, name=None)\n",
            "  135742772227136: TensorSpec(shape=(), dtype=tf.resource, name=None)\n",
            "  135742772229776: TensorSpec(shape=(), dtype=tf.resource, name=None)\n",
            "  135742772227488: TensorSpec(shape=(), dtype=tf.resource, name=None)\n",
            "  135742772498272: TensorSpec(shape=(), dtype=tf.resource, name=None)\n",
            "  135742772500912: TensorSpec(shape=(), dtype=tf.resource, name=None)\n",
            "  135742772496864: TensorSpec(shape=(), dtype=tf.resource, name=None)\n",
            "  135742772498800: TensorSpec(shape=(), dtype=tf.resource, name=None)\n",
            "  135742772507072: TensorSpec(shape=(), dtype=tf.resource, name=None)\n",
            "  135742772506016: TensorSpec(shape=(), dtype=tf.resource, name=None)\n",
            "  135742772508480: TensorSpec(shape=(), dtype=tf.resource, name=None)\n",
            "  135742772494928: TensorSpec(shape=(), dtype=tf.resource, name=None)\n",
            "  135742772507248: TensorSpec(shape=(), dtype=tf.resource, name=None)\n",
            "  135742772719184: TensorSpec(shape=(), dtype=tf.resource, name=None)\n",
            "  135742771990896: TensorSpec(shape=(), dtype=tf.resource, name=None)\n",
            "  135742771990544: TensorSpec(shape=(), dtype=tf.resource, name=None)\n",
            "  135742771988080: TensorSpec(shape=(), dtype=tf.resource, name=None)\n",
            "  135742771990720: TensorSpec(shape=(), dtype=tf.resource, name=None)\n",
            "  135742771997936: TensorSpec(shape=(), dtype=tf.resource, name=None)\n",
            "  135742771996880: TensorSpec(shape=(), dtype=tf.resource, name=None)\n",
            "  135742771999520: TensorSpec(shape=(), dtype=tf.resource, name=None)\n",
            "  135742771988432: TensorSpec(shape=(), dtype=tf.resource, name=None)\n",
            "  135742771997408: TensorSpec(shape=(), dtype=tf.resource, name=None)\n",
            "  135742772002512: TensorSpec(shape=(), dtype=tf.resource, name=None)\n",
            "  135742772170064: TensorSpec(shape=(), dtype=tf.resource, name=None)\n",
            "  135742772167600: TensorSpec(shape=(), dtype=tf.resource, name=None)\n",
            "  135742772166720: TensorSpec(shape=(), dtype=tf.resource, name=None)\n",
            "  135742772170240: TensorSpec(shape=(), dtype=tf.resource, name=None)\n",
            "  135742772495104: TensorSpec(shape=(), dtype=tf.resource, name=None)\n",
            "  135742772176224: TensorSpec(shape=(), dtype=tf.resource, name=None)\n",
            "  135742772178688: TensorSpec(shape=(), dtype=tf.resource, name=None)\n",
            "  135742772174816: TensorSpec(shape=(), dtype=tf.resource, name=None)\n",
            "  135742772177456: TensorSpec(shape=(), dtype=tf.resource, name=None)\n",
            "  135742772175168: TensorSpec(shape=(), dtype=tf.resource, name=None)\n",
            "  135742772545488: TensorSpec(shape=(), dtype=tf.resource, name=None)\n",
            "  135742772547776: TensorSpec(shape=(), dtype=tf.resource, name=None)\n",
            "  135742772543728: TensorSpec(shape=(), dtype=tf.resource, name=None)\n",
            "  135742772547248: TensorSpec(shape=(), dtype=tf.resource, name=None)\n",
            "  135742772181680: TensorSpec(shape=(), dtype=tf.resource, name=None)\n",
            "  135742772553408: TensorSpec(shape=(), dtype=tf.resource, name=None)\n",
            "  135742772555872: TensorSpec(shape=(), dtype=tf.resource, name=None)\n",
            "  135742772552000: TensorSpec(shape=(), dtype=tf.resource, name=None)\n",
            "  135742772554640: TensorSpec(shape=(), dtype=tf.resource, name=None)\n",
            "  135742772544432: TensorSpec(shape=(), dtype=tf.resource, name=None)\n",
            "  135742772643088: TensorSpec(shape=(), dtype=tf.resource, name=None)\n",
            "  135742772643440: TensorSpec(shape=(), dtype=tf.resource, name=None)\n",
            "  135742772558512: TensorSpec(shape=(), dtype=tf.resource, name=None)\n",
            "  135742772641856: TensorSpec(shape=(), dtype=tf.resource, name=None)\n",
            "  135742772556576: TensorSpec(shape=(), dtype=tf.resource, name=None)\n",
            "  135742772649072: TensorSpec(shape=(), dtype=tf.resource, name=None)\n",
            "  135742772651712: TensorSpec(shape=(), dtype=tf.resource, name=None)\n",
            "  135742772647664: TensorSpec(shape=(), dtype=tf.resource, name=None)\n",
            "  135742772649600: TensorSpec(shape=(), dtype=tf.resource, name=None)\n",
            "  135742772657872: TensorSpec(shape=(), dtype=tf.resource, name=None)\n",
            "  135742772648016: TensorSpec(shape=(), dtype=tf.resource, name=None)\n",
            "  135742772653296: TensorSpec(shape=(), dtype=tf.resource, name=None)\n",
            "  135742772655056: TensorSpec(shape=(), dtype=tf.resource, name=None)\n",
            "  135742772887616: TensorSpec(shape=(), dtype=tf.resource, name=None)\n",
            "  135742772181856: TensorSpec(shape=(), dtype=tf.resource, name=None)\n",
            "  135742772895360: TensorSpec(shape=(), dtype=tf.resource, name=None)\n",
            "  135742772896416: TensorSpec(shape=(), dtype=tf.resource, name=None)\n",
            "  135742772892544: TensorSpec(shape=(), dtype=tf.resource, name=None)\n",
            "  135742772895184: TensorSpec(shape=(), dtype=tf.resource, name=None)\n",
            "  135742772902400: TensorSpec(shape=(), dtype=tf.resource, name=None)\n",
            "  135742772901344: TensorSpec(shape=(), dtype=tf.resource, name=None)\n",
            "  135742772898528: TensorSpec(shape=(), dtype=tf.resource, name=None)\n",
            "  135742772892896: TensorSpec(shape=(), dtype=tf.resource, name=None)\n",
            "  135742772901872: TensorSpec(shape=(), dtype=tf.resource, name=None)\n",
            "  135742772898000: TensorSpec(shape=(), dtype=tf.resource, name=None)\n",
            "  135742772828768: TensorSpec(shape=(), dtype=tf.resource, name=None)\n",
            "  135742772829824: TensorSpec(shape=(), dtype=tf.resource, name=None)\n",
            "  135742772825952: TensorSpec(shape=(), dtype=tf.resource, name=None)\n",
            "  135742772828592: TensorSpec(shape=(), dtype=tf.resource, name=None)\n",
            "  135742772645904: TensorSpec(shape=(), dtype=tf.resource, name=None)\n",
            "  135742772834928: TensorSpec(shape=(), dtype=tf.resource, name=None)\n",
            "  135742772837392: TensorSpec(shape=(), dtype=tf.resource, name=None)\n",
            "  135742772833520: TensorSpec(shape=(), dtype=tf.resource, name=None)\n",
            "  135742772836160: TensorSpec(shape=(), dtype=tf.resource, name=None)\n",
            "  135742772833872: TensorSpec(shape=(), dtype=tf.resource, name=None)\n",
            "  135742772236304: TensorSpec(shape=(), dtype=tf.resource, name=None)\n",
            "  135742772238944: TensorSpec(shape=(), dtype=tf.resource, name=None)\n",
            "  135742772234896: TensorSpec(shape=(), dtype=tf.resource, name=None)\n",
            "  135742772236832: TensorSpec(shape=(), dtype=tf.resource, name=None)\n",
            "  135742772245104: TensorSpec(shape=(), dtype=tf.resource, name=None)\n",
            "  135742772244048: TensorSpec(shape=(), dtype=tf.resource, name=None)\n",
            "  135742772246512: TensorSpec(shape=(), dtype=tf.resource, name=None)\n",
            "  135742772232960: TensorSpec(shape=(), dtype=tf.resource, name=None)\n",
            "  135742772245280: TensorSpec(shape=(), dtype=tf.resource, name=None)\n",
            "  135742747285936: TensorSpec(shape=(), dtype=tf.resource, name=None)\n",
            "  135742772248096: TensorSpec(shape=(), dtype=tf.resource, name=None)\n",
            "  135745592457904: TensorSpec(shape=(), dtype=tf.resource, name=None)\n",
            "  135745573885680: TensorSpec(shape=(), dtype=tf.resource, name=None)\n",
            "  135742772240880: TensorSpec(shape=(), dtype=tf.resource, name=None)\n",
            "  135742729163824: TensorSpec(shape=(), dtype=tf.resource, name=None)\n",
            "  135742729164704: TensorSpec(shape=(), dtype=tf.resource, name=None)\n",
            "  135742729159952: TensorSpec(shape=(), dtype=tf.resource, name=None)\n",
            "  135742729166640: TensorSpec(shape=(), dtype=tf.resource, name=None)\n"
          ]
        }
      ],
      "source": [
        "import tensorflow as tf\n",
        "\n",
        "# Convertir le modèle en TensorFlow Lite\n",
        "converter = tf.lite.TFLiteConverter.from_keras_model(model)  # Ou utilisez `from_saved_model` si le modèle est enregistré\n",
        "tflite_model = converter.convert()\n",
        "\n",
        "# Sauvegarder le modèle TFLite\n",
        "with open('model.tflite', 'wb') as f:\n",
        "    f.write(tflite_model)"
      ]
    }
  ],
  "metadata": {
    "colab": {
      "name": "PlantDiseasesIdentifier",
      "provenance": []
    },
    "kaggle": {
      "accelerator": "none",
      "dataSources": [
        {
          "datasetId": 70909,
          "sourceId": 150545,
          "sourceType": "datasetVersion"
        },
        {
          "isSourceIdPinned": true,
          "modelId": 192089,
          "modelInstanceId": 169745,
          "sourceId": 199008,
          "sourceType": "modelInstanceVersion"
        }
      ],
      "dockerImageVersionId": 30804,
      "isGpuEnabled": false,
      "isInternetEnabled": false,
      "language": "python",
      "sourceType": "notebook"
    },
    "kernelspec": {
      "display_name": "Python 3",
      "language": "python",
      "name": "python3"
    },
    "language_info": {
      "codemirror_mode": {
        "name": "ipython",
        "version": 3
      },
      "file_extension": ".py",
      "mimetype": "text/x-python",
      "name": "python",
      "nbconvert_exporter": "python",
      "pygments_lexer": "ipython3",
      "version": "3.10.14"
    },
    "widgets": {
      "application/vnd.jupyter.widget-state+json": {
        "153814d4c95f49359db0ba7f3c07ffa6": {
          "model_module": "@jupyter-widgets/base",
          "model_module_version": "1.2.0",
          "model_name": "LayoutModel",
          "state": {
            "_model_module": "@jupyter-widgets/base",
            "_model_module_version": "1.2.0",
            "_model_name": "LayoutModel",
            "_view_count": null,
            "_view_module": "@jupyter-widgets/base",
            "_view_module_version": "1.2.0",
            "_view_name": "LayoutView",
            "align_content": null,
            "align_items": null,
            "align_self": null,
            "border": null,
            "bottom": null,
            "display": null,
            "flex": null,
            "flex_flow": null,
            "grid_area": null,
            "grid_auto_columns": null,
            "grid_auto_flow": null,
            "grid_auto_rows": null,
            "grid_column": null,
            "grid_gap": null,
            "grid_row": null,
            "grid_template_areas": null,
            "grid_template_columns": null,
            "grid_template_rows": null,
            "height": null,
            "justify_content": null,
            "justify_items": null,
            "left": null,
            "margin": null,
            "max_height": null,
            "max_width": null,
            "min_height": null,
            "min_width": null,
            "object_fit": null,
            "object_position": null,
            "order": null,
            "overflow": null,
            "overflow_x": null,
            "overflow_y": null,
            "padding": null,
            "right": null,
            "top": null,
            "visibility": null,
            "width": null
          }
        },
        "29358a87e3b74a61892982471bb1e0af": {
          "model_module": "@jupyter-widgets/controls",
          "model_module_version": "1.5.0",
          "model_name": "LabelModel",
          "state": {
            "_dom_classes": [],
            "_model_module": "@jupyter-widgets/controls",
            "_model_module_version": "1.5.0",
            "_model_name": "LabelModel",
            "_view_count": null,
            "_view_module": "@jupyter-widgets/controls",
            "_view_module_version": "1.5.0",
            "_view_name": "LabelView",
            "description": "",
            "description_tooltip": null,
            "layout": "IPY_MODEL_2b09b9969cca49b3ad8692d80eef6559",
            "placeholder": "​",
            "style": "IPY_MODEL_71b186b015e74c0badc1e533659e0b64",
            "value": "Kaggle credentials successfully validated."
          }
        },
        "2b09b9969cca49b3ad8692d80eef6559": {
          "model_module": "@jupyter-widgets/base",
          "model_module_version": "1.2.0",
          "model_name": "LayoutModel",
          "state": {
            "_model_module": "@jupyter-widgets/base",
            "_model_module_version": "1.2.0",
            "_model_name": "LayoutModel",
            "_view_count": null,
            "_view_module": "@jupyter-widgets/base",
            "_view_module_version": "1.2.0",
            "_view_name": "LayoutView",
            "align_content": null,
            "align_items": null,
            "align_self": null,
            "border": null,
            "bottom": null,
            "display": null,
            "flex": null,
            "flex_flow": null,
            "grid_area": null,
            "grid_auto_columns": null,
            "grid_auto_flow": null,
            "grid_auto_rows": null,
            "grid_column": null,
            "grid_gap": null,
            "grid_row": null,
            "grid_template_areas": null,
            "grid_template_columns": null,
            "grid_template_rows": null,
            "height": null,
            "justify_content": null,
            "justify_items": null,
            "left": null,
            "margin": null,
            "max_height": null,
            "max_width": null,
            "min_height": null,
            "min_width": null,
            "object_fit": null,
            "object_position": null,
            "order": null,
            "overflow": null,
            "overflow_x": null,
            "overflow_y": null,
            "padding": null,
            "right": null,
            "top": null,
            "visibility": null,
            "width": null
          }
        },
        "38504228ea4a4c429abbb47adde65526": {
          "model_module": "@jupyter-widgets/controls",
          "model_module_version": "1.5.0",
          "model_name": "DescriptionStyleModel",
          "state": {
            "_model_module": "@jupyter-widgets/controls",
            "_model_module_version": "1.5.0",
            "_model_name": "DescriptionStyleModel",
            "_view_count": null,
            "_view_module": "@jupyter-widgets/base",
            "_view_module_version": "1.2.0",
            "_view_name": "StyleView",
            "description_width": ""
          }
        },
        "4930473dd35b42cea7e9d64fb024877d": {
          "model_module": "@jupyter-widgets/base",
          "model_module_version": "1.2.0",
          "model_name": "LayoutModel",
          "state": {
            "_model_module": "@jupyter-widgets/base",
            "_model_module_version": "1.2.0",
            "_model_name": "LayoutModel",
            "_view_count": null,
            "_view_module": "@jupyter-widgets/base",
            "_view_module_version": "1.2.0",
            "_view_name": "LayoutView",
            "align_content": null,
            "align_items": "center",
            "align_self": null,
            "border": null,
            "bottom": null,
            "display": "flex",
            "flex": null,
            "flex_flow": "column",
            "grid_area": null,
            "grid_auto_columns": null,
            "grid_auto_flow": null,
            "grid_auto_rows": null,
            "grid_column": null,
            "grid_gap": null,
            "grid_row": null,
            "grid_template_areas": null,
            "grid_template_columns": null,
            "grid_template_rows": null,
            "height": null,
            "justify_content": null,
            "justify_items": null,
            "left": null,
            "margin": null,
            "max_height": null,
            "max_width": null,
            "min_height": null,
            "min_width": null,
            "object_fit": null,
            "object_position": null,
            "order": null,
            "overflow": null,
            "overflow_x": null,
            "overflow_y": null,
            "padding": null,
            "right": null,
            "top": null,
            "visibility": null,
            "width": "50%"
          }
        },
        "5d396a60f8f040c794a4212c3fe4f77d": {
          "model_module": "@jupyter-widgets/base",
          "model_module_version": "1.2.0",
          "model_name": "LayoutModel",
          "state": {
            "_model_module": "@jupyter-widgets/base",
            "_model_module_version": "1.2.0",
            "_model_name": "LayoutModel",
            "_view_count": null,
            "_view_module": "@jupyter-widgets/base",
            "_view_module_version": "1.2.0",
            "_view_name": "LayoutView",
            "align_content": null,
            "align_items": null,
            "align_self": null,
            "border": null,
            "bottom": null,
            "display": null,
            "flex": null,
            "flex_flow": null,
            "grid_area": null,
            "grid_auto_columns": null,
            "grid_auto_flow": null,
            "grid_auto_rows": null,
            "grid_column": null,
            "grid_gap": null,
            "grid_row": null,
            "grid_template_areas": null,
            "grid_template_columns": null,
            "grid_template_rows": null,
            "height": null,
            "justify_content": null,
            "justify_items": null,
            "left": null,
            "margin": null,
            "max_height": null,
            "max_width": null,
            "min_height": null,
            "min_width": null,
            "object_fit": null,
            "object_position": null,
            "order": null,
            "overflow": null,
            "overflow_x": null,
            "overflow_y": null,
            "padding": null,
            "right": null,
            "top": null,
            "visibility": null,
            "width": null
          }
        },
        "6b1d9e04c9ae4f9790a694a473a5c4e3": {
          "model_module": "@jupyter-widgets/base",
          "model_module_version": "1.2.0",
          "model_name": "LayoutModel",
          "state": {
            "_model_module": "@jupyter-widgets/base",
            "_model_module_version": "1.2.0",
            "_model_name": "LayoutModel",
            "_view_count": null,
            "_view_module": "@jupyter-widgets/base",
            "_view_module_version": "1.2.0",
            "_view_name": "LayoutView",
            "align_content": null,
            "align_items": null,
            "align_self": null,
            "border": null,
            "bottom": null,
            "display": null,
            "flex": null,
            "flex_flow": null,
            "grid_area": null,
            "grid_auto_columns": null,
            "grid_auto_flow": null,
            "grid_auto_rows": null,
            "grid_column": null,
            "grid_gap": null,
            "grid_row": null,
            "grid_template_areas": null,
            "grid_template_columns": null,
            "grid_template_rows": null,
            "height": null,
            "justify_content": null,
            "justify_items": null,
            "left": null,
            "margin": null,
            "max_height": null,
            "max_width": null,
            "min_height": null,
            "min_width": null,
            "object_fit": null,
            "object_position": null,
            "order": null,
            "overflow": null,
            "overflow_x": null,
            "overflow_y": null,
            "padding": null,
            "right": null,
            "top": null,
            "visibility": null,
            "width": null
          }
        },
        "6ca567592ce044619262821f52a3a53a": {
          "model_module": "@jupyter-widgets/controls",
          "model_module_version": "1.5.0",
          "model_name": "DescriptionStyleModel",
          "state": {
            "_model_module": "@jupyter-widgets/controls",
            "_model_module_version": "1.5.0",
            "_model_name": "DescriptionStyleModel",
            "_view_count": null,
            "_view_module": "@jupyter-widgets/base",
            "_view_module_version": "1.2.0",
            "_view_name": "StyleView",
            "description_width": ""
          }
        },
        "6e64712267854773af7b88b6da524f10": {
          "model_module": "@jupyter-widgets/controls",
          "model_module_version": "1.5.0",
          "model_name": "LabelModel",
          "state": {
            "_dom_classes": [],
            "_model_module": "@jupyter-widgets/controls",
            "_model_module_version": "1.5.0",
            "_model_name": "LabelModel",
            "_view_count": null,
            "_view_module": "@jupyter-widgets/controls",
            "_view_module_version": "1.5.0",
            "_view_name": "LabelView",
            "description": "",
            "description_tooltip": null,
            "layout": "IPY_MODEL_153814d4c95f49359db0ba7f3c07ffa6",
            "placeholder": "​",
            "style": "IPY_MODEL_cad901a310504c75acae94315e5cdfb3",
            "value": "Connecting..."
          }
        },
        "71b186b015e74c0badc1e533659e0b64": {
          "model_module": "@jupyter-widgets/controls",
          "model_module_version": "1.5.0",
          "model_name": "DescriptionStyleModel",
          "state": {
            "_model_module": "@jupyter-widgets/controls",
            "_model_module_version": "1.5.0",
            "_model_name": "DescriptionStyleModel",
            "_view_count": null,
            "_view_module": "@jupyter-widgets/base",
            "_view_module_version": "1.2.0",
            "_view_name": "StyleView",
            "description_width": ""
          }
        },
        "7a1fe3cfb1854701a0d42c8c52505e85": {
          "model_module": "@jupyter-widgets/controls",
          "model_module_version": "1.5.0",
          "model_name": "HTMLModel",
          "state": {
            "_dom_classes": [],
            "_model_module": "@jupyter-widgets/controls",
            "_model_module_version": "1.5.0",
            "_model_name": "HTMLModel",
            "_view_count": null,
            "_view_module": "@jupyter-widgets/controls",
            "_view_module_version": "1.5.0",
            "_view_name": "HTMLView",
            "description": "",
            "description_tooltip": null,
            "layout": "IPY_MODEL_6b1d9e04c9ae4f9790a694a473a5c4e3",
            "placeholder": "​",
            "style": "IPY_MODEL_6ca567592ce044619262821f52a3a53a",
            "value": "<center> <img\nsrc=https://www.kaggle.com/static/images/site-logo.png\nalt='Kaggle'> <br> Create an API token from <a\nhref=\"https://www.kaggle.com/settings/account\" target=\"_blank\">your Kaggle\nsettings page</a> and paste it below along with your Kaggle username. <br> </center>"
          }
        },
        "aae4f94c98214ebfaf729bc6255e3aec": {
          "model_module": "@jupyter-widgets/base",
          "model_module_version": "1.2.0",
          "model_name": "LayoutModel",
          "state": {
            "_model_module": "@jupyter-widgets/base",
            "_model_module_version": "1.2.0",
            "_model_name": "LayoutModel",
            "_view_count": null,
            "_view_module": "@jupyter-widgets/base",
            "_view_module_version": "1.2.0",
            "_view_name": "LayoutView",
            "align_content": null,
            "align_items": null,
            "align_self": null,
            "border": null,
            "bottom": null,
            "display": null,
            "flex": null,
            "flex_flow": null,
            "grid_area": null,
            "grid_auto_columns": null,
            "grid_auto_flow": null,
            "grid_auto_rows": null,
            "grid_column": null,
            "grid_gap": null,
            "grid_row": null,
            "grid_template_areas": null,
            "grid_template_columns": null,
            "grid_template_rows": null,
            "height": null,
            "justify_content": null,
            "justify_items": null,
            "left": null,
            "margin": null,
            "max_height": null,
            "max_width": null,
            "min_height": null,
            "min_width": null,
            "object_fit": null,
            "object_position": null,
            "order": null,
            "overflow": null,
            "overflow_x": null,
            "overflow_y": null,
            "padding": null,
            "right": null,
            "top": null,
            "visibility": null,
            "width": null
          }
        },
        "adb3183c3fb34576a485d3dd073fd2d6": {
          "model_module": "@jupyter-widgets/base",
          "model_module_version": "1.2.0",
          "model_name": "LayoutModel",
          "state": {
            "_model_module": "@jupyter-widgets/base",
            "_model_module_version": "1.2.0",
            "_model_name": "LayoutModel",
            "_view_count": null,
            "_view_module": "@jupyter-widgets/base",
            "_view_module_version": "1.2.0",
            "_view_name": "LayoutView",
            "align_content": null,
            "align_items": null,
            "align_self": null,
            "border": null,
            "bottom": null,
            "display": null,
            "flex": null,
            "flex_flow": null,
            "grid_area": null,
            "grid_auto_columns": null,
            "grid_auto_flow": null,
            "grid_auto_rows": null,
            "grid_column": null,
            "grid_gap": null,
            "grid_row": null,
            "grid_template_areas": null,
            "grid_template_columns": null,
            "grid_template_rows": null,
            "height": null,
            "justify_content": null,
            "justify_items": null,
            "left": null,
            "margin": null,
            "max_height": null,
            "max_width": null,
            "min_height": null,
            "min_width": null,
            "object_fit": null,
            "object_position": null,
            "order": null,
            "overflow": null,
            "overflow_x": null,
            "overflow_y": null,
            "padding": null,
            "right": null,
            "top": null,
            "visibility": null,
            "width": null
          }
        },
        "afba5496128a4b6c943d547e1633f60b": {
          "model_module": "@jupyter-widgets/controls",
          "model_module_version": "1.5.0",
          "model_name": "DescriptionStyleModel",
          "state": {
            "_model_module": "@jupyter-widgets/controls",
            "_model_module_version": "1.5.0",
            "_model_name": "DescriptionStyleModel",
            "_view_count": null,
            "_view_module": "@jupyter-widgets/base",
            "_view_module_version": "1.2.0",
            "_view_name": "StyleView",
            "description_width": ""
          }
        },
        "b91af86250bf47588a20a1c503b669c1": {
          "model_module": "@jupyter-widgets/base",
          "model_module_version": "1.2.0",
          "model_name": "LayoutModel",
          "state": {
            "_model_module": "@jupyter-widgets/base",
            "_model_module_version": "1.2.0",
            "_model_name": "LayoutModel",
            "_view_count": null,
            "_view_module": "@jupyter-widgets/base",
            "_view_module_version": "1.2.0",
            "_view_name": "LayoutView",
            "align_content": null,
            "align_items": null,
            "align_self": null,
            "border": null,
            "bottom": null,
            "display": null,
            "flex": null,
            "flex_flow": null,
            "grid_area": null,
            "grid_auto_columns": null,
            "grid_auto_flow": null,
            "grid_auto_rows": null,
            "grid_column": null,
            "grid_gap": null,
            "grid_row": null,
            "grid_template_areas": null,
            "grid_template_columns": null,
            "grid_template_rows": null,
            "height": null,
            "justify_content": null,
            "justify_items": null,
            "left": null,
            "margin": null,
            "max_height": null,
            "max_width": null,
            "min_height": null,
            "min_width": null,
            "object_fit": null,
            "object_position": null,
            "order": null,
            "overflow": null,
            "overflow_x": null,
            "overflow_y": null,
            "padding": null,
            "right": null,
            "top": null,
            "visibility": null,
            "width": null
          }
        },
        "b96399a3b602471b9670b3dc5fe0af72": {
          "model_module": "@jupyter-widgets/controls",
          "model_module_version": "1.5.0",
          "model_name": "HTMLModel",
          "state": {
            "_dom_classes": [],
            "_model_module": "@jupyter-widgets/controls",
            "_model_module_version": "1.5.0",
            "_model_name": "HTMLModel",
            "_view_count": null,
            "_view_module": "@jupyter-widgets/controls",
            "_view_module_version": "1.5.0",
            "_view_name": "HTMLView",
            "description": "",
            "description_tooltip": null,
            "layout": "IPY_MODEL_b91af86250bf47588a20a1c503b669c1",
            "placeholder": "​",
            "style": "IPY_MODEL_38504228ea4a4c429abbb47adde65526",
            "value": "\n<b>Thank You</b></center>"
          }
        },
        "bd292dff5952464199ac5ea1b15f9995": {
          "model_module": "@jupyter-widgets/controls",
          "model_module_version": "1.5.0",
          "model_name": "PasswordModel",
          "state": {
            "_dom_classes": [],
            "_model_module": "@jupyter-widgets/controls",
            "_model_module_version": "1.5.0",
            "_model_name": "PasswordModel",
            "_view_count": null,
            "_view_module": "@jupyter-widgets/controls",
            "_view_module_version": "1.5.0",
            "_view_name": "PasswordView",
            "continuous_update": true,
            "description": "Token:",
            "description_tooltip": null,
            "disabled": false,
            "layout": "IPY_MODEL_aae4f94c98214ebfaf729bc6255e3aec",
            "placeholder": "​",
            "style": "IPY_MODEL_d2977e0938a347d493f7b4fe0b0893e0",
            "value": ""
          }
        },
        "bfd9092d2366463d9f6a5fbcfdb5b685": {
          "model_module": "@jupyter-widgets/controls",
          "model_module_version": "1.5.0",
          "model_name": "TextModel",
          "state": {
            "_dom_classes": [],
            "_model_module": "@jupyter-widgets/controls",
            "_model_module_version": "1.5.0",
            "_model_name": "TextModel",
            "_view_count": null,
            "_view_module": "@jupyter-widgets/controls",
            "_view_module_version": "1.5.0",
            "_view_name": "TextView",
            "continuous_update": true,
            "description": "Username:",
            "description_tooltip": null,
            "disabled": false,
            "layout": "IPY_MODEL_adb3183c3fb34576a485d3dd073fd2d6",
            "placeholder": "​",
            "style": "IPY_MODEL_afba5496128a4b6c943d547e1633f60b",
            "value": "ayoubdammak"
          }
        },
        "c477966812c64cba8667d1aa872ae105": {
          "model_module": "@jupyter-widgets/controls",
          "model_module_version": "1.5.0",
          "model_name": "ButtonModel",
          "state": {
            "_dom_classes": [],
            "_model_module": "@jupyter-widgets/controls",
            "_model_module_version": "1.5.0",
            "_model_name": "ButtonModel",
            "_view_count": null,
            "_view_module": "@jupyter-widgets/controls",
            "_view_module_version": "1.5.0",
            "_view_name": "ButtonView",
            "button_style": "",
            "description": "Login",
            "disabled": false,
            "icon": "",
            "layout": "IPY_MODEL_5d396a60f8f040c794a4212c3fe4f77d",
            "style": "IPY_MODEL_cbe010b9bb424b2d9484e2266c1c8a4b",
            "tooltip": ""
          }
        },
        "cad901a310504c75acae94315e5cdfb3": {
          "model_module": "@jupyter-widgets/controls",
          "model_module_version": "1.5.0",
          "model_name": "DescriptionStyleModel",
          "state": {
            "_model_module": "@jupyter-widgets/controls",
            "_model_module_version": "1.5.0",
            "_model_name": "DescriptionStyleModel",
            "_view_count": null,
            "_view_module": "@jupyter-widgets/base",
            "_view_module_version": "1.2.0",
            "_view_name": "StyleView",
            "description_width": ""
          }
        },
        "cbe010b9bb424b2d9484e2266c1c8a4b": {
          "model_module": "@jupyter-widgets/controls",
          "model_module_version": "1.5.0",
          "model_name": "ButtonStyleModel",
          "state": {
            "_model_module": "@jupyter-widgets/controls",
            "_model_module_version": "1.5.0",
            "_model_name": "ButtonStyleModel",
            "_view_count": null,
            "_view_module": "@jupyter-widgets/base",
            "_view_module_version": "1.2.0",
            "_view_name": "StyleView",
            "button_color": null,
            "font_weight": ""
          }
        },
        "d2977e0938a347d493f7b4fe0b0893e0": {
          "model_module": "@jupyter-widgets/controls",
          "model_module_version": "1.5.0",
          "model_name": "DescriptionStyleModel",
          "state": {
            "_model_module": "@jupyter-widgets/controls",
            "_model_module_version": "1.5.0",
            "_model_name": "DescriptionStyleModel",
            "_view_count": null,
            "_view_module": "@jupyter-widgets/base",
            "_view_module_version": "1.2.0",
            "_view_name": "StyleView",
            "description_width": ""
          }
        },
        "f955c39c96bb43cd8a23ac78f21bd772": {
          "model_module": "@jupyter-widgets/controls",
          "model_module_version": "1.5.0",
          "model_name": "VBoxModel",
          "state": {
            "_dom_classes": [],
            "_model_module": "@jupyter-widgets/controls",
            "_model_module_version": "1.5.0",
            "_model_name": "VBoxModel",
            "_view_count": null,
            "_view_module": "@jupyter-widgets/controls",
            "_view_module_version": "1.5.0",
            "_view_name": "VBoxView",
            "box_style": "",
            "children": [
              "IPY_MODEL_29358a87e3b74a61892982471bb1e0af"
            ],
            "layout": "IPY_MODEL_4930473dd35b42cea7e9d64fb024877d"
          }
        }
      }
    }
  },
  "nbformat": 4,
  "nbformat_minor": 0
}
